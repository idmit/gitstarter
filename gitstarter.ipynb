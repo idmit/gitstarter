{
 "cells": [
  {
   "cell_type": "markdown",
   "metadata": {
    "deletable": true,
    "editable": true
   },
   "source": [
    "# Использование Git"
   ]
  },
  {
   "cell_type": "markdown",
   "metadata": {
    "collapsed": true,
    "deletable": true,
    "editable": true
   },
   "source": [
    "---"
   ]
  },
  {
   "cell_type": "markdown",
   "metadata": {
    "deletable": true,
    "editable": true
   },
   "source": [
    "# Подготовка"
   ]
  },
  {
   "cell_type": "markdown",
   "metadata": {
    "deletable": true,
    "editable": true
   },
   "source": [
    "Git различает изменения, сделанные разными пользователями, поэтому следует себя идентифицировать."
   ]
  },
  {
   "cell_type": "code",
   "execution_count": null,
   "metadata": {
    "collapsed": true,
    "deletable": true,
    "editable": true
   },
   "outputs": [],
   "source": [
    "git config --global user.name 'Ivan Dmitrievsky'\n",
    "git config --global user.email 'ivan.dmitrievsky@gmail.com'"
   ]
  },
  {
   "cell_type": "markdown",
   "metadata": {
    "deletable": true,
    "editable": true
   },
   "source": [
    "---"
   ]
  },
  {
   "cell_type": "markdown",
   "metadata": {
    "deletable": true,
    "editable": true
   },
   "source": [
    "# Описание задачи"
   ]
  },
  {
   "cell_type": "markdown",
   "metadata": {
    "deletable": true,
    "editable": true
   },
   "source": [
    "Имеется MAP файл, в котором каждая строчка описывает один SNP в датасете. Каждая строчка состоит из четырёх столбцов, разделённых символом табуляции:\n",
    "\n",
    "* Chromosome id (1-22, X, Y or 0)\n",
    "* SNP id (string)\n",
    "* Genetic distance (morgans)\n",
    "* Base-pair position (bp units)"
   ]
  },
  {
   "cell_type": "markdown",
   "metadata": {
    "deletable": true,
    "editable": true
   },
   "source": [
    "## Пример"
   ]
  },
  {
   "cell_type": "markdown",
   "metadata": {
    "deletable": true,
    "editable": true
   },
   "source": [
    "```\n",
    "1  rs123456  0  1234555\n",
    "1  rs234567  0  1237793\n",
    "1  rs224534  0  1237697\n",
    "...\n",
    "2  rs233556  0  91536\n",
    "...\n",
    "```"
   ]
  },
  {
   "cell_type": "markdown",
   "metadata": {
    "deletable": true,
    "editable": true
   },
   "source": [
    "Хочется узнать, сколько SNP относится к каждой из хромосом."
   ]
  },
  {
   "cell_type": "markdown",
   "metadata": {
    "collapsed": true,
    "deletable": true,
    "editable": true
   },
   "source": [
    "---"
   ]
  },
  {
   "cell_type": "markdown",
   "metadata": {
    "deletable": true,
    "editable": true
   },
   "source": [
    "# Создание проекта"
   ]
  },
  {
   "cell_type": "code",
   "execution_count": 1,
   "metadata": {
    "collapsed": false,
    "deletable": true,
    "editable": true
   },
   "outputs": [
    {
     "name": "stdout",
     "output_type": "stream",
     "text": [
      "/Users/idmit/Documents/dev/sandbox/git_workshop\n"
     ]
    }
   ],
   "source": [
    "pwd"
   ]
  },
  {
   "cell_type": "code",
   "execution_count": 2,
   "metadata": {
    "collapsed": false,
    "deletable": true,
    "editable": true
   },
   "outputs": [],
   "source": [
    "mkdir -p gitstarter/count\n",
    "cd gitstarter/count"
   ]
  },
  {
   "cell_type": "markdown",
   "metadata": {
    "collapsed": true,
    "deletable": true,
    "editable": true
   },
   "source": [
    "---"
   ]
  },
  {
   "cell_type": "markdown",
   "metadata": {
    "deletable": true,
    "editable": true
   },
   "source": [
    "# Создание репозитория"
   ]
  },
  {
   "cell_type": "markdown",
   "metadata": {
    "deletable": true,
    "editable": true
   },
   "source": [
    "Чтобы превратить рабочий каталог в git репозиторий используется следующая команда."
   ]
  },
  {
   "cell_type": "code",
   "execution_count": 3,
   "metadata": {
    "collapsed": false,
    "deletable": true,
    "editable": true
   },
   "outputs": [
    {
     "name": "stdout",
     "output_type": "stream",
     "text": [
      "Initialized empty Git repository in /Users/idmit/Documents/dev/sandbox/git_workshop/gitstarter/count/.git/\n"
     ]
    }
   ],
   "source": [
    "git init"
   ]
  },
  {
   "cell_type": "markdown",
   "metadata": {
    "deletable": true,
    "editable": true
   },
   "source": [
    "Команда для просмотра состояния репозитория:"
   ]
  },
  {
   "cell_type": "code",
   "execution_count": 4,
   "metadata": {
    "collapsed": false,
    "deletable": true,
    "editable": true
   },
   "outputs": [
    {
     "name": "stdout",
     "output_type": "stream",
     "text": [
      "On branch master\n",
      "\n",
      "Initial commit\n",
      "\n",
      "nothing to commit (create/copy files and use \"git add\" to track)\n"
     ]
    }
   ],
   "source": [
    "git status"
   ]
  },
  {
   "cell_type": "code",
   "execution_count": 4,
   "metadata": {
    "collapsed": false,
    "deletable": true,
    "editable": true
   },
   "outputs": [
    {
     "name": "stdout",
     "output_type": "stream",
     "text": [
      "total 0\n",
      "drwxr-xr-x  3 idmit  staff   102B Feb 28 17:05 .\n",
      "drwxr-xr-x  3 idmit  staff   102B Feb 28 17:05 ..\n",
      "drwxr-xr-x  9 idmit  staff   306B Feb 28 17:05 .git\n"
     ]
    }
   ],
   "source": [
    "ls -lah"
   ]
  },
  {
   "cell_type": "markdown",
   "metadata": {
    "deletable": true,
    "editable": true
   },
   "source": [
    "Git создал свой служебный каталог `.git`. Родительская директория перестанет быть репозиторием, если удалить `.git`. "
   ]
  },
  {
   "cell_type": "markdown",
   "metadata": {
    "collapsed": true,
    "deletable": true,
    "editable": true
   },
   "source": [
    "---"
   ]
  },
  {
   "cell_type": "markdown",
   "metadata": {
    "deletable": true,
    "editable": true
   },
   "source": [
    "# Входные данные"
   ]
  },
  {
   "cell_type": "code",
   "execution_count": 5,
   "metadata": {
    "collapsed": false,
    "deletable": true,
    "editable": true
   },
   "outputs": [
    {
     "name": "stdout",
     "output_type": "stream",
     "text": [
      "  % Total    % Received % Xferd  Average Speed   Time    Time     Time  Current\n",
      "                                 Dload  Upload   Total   Spent    Left  Speed\n",
      "100 6040k  100 6040k    0     0  1082k      0  0:00:05  0:00:05 --:--:-- 1436k\n"
     ]
    }
   ],
   "source": [
    "curl -O 'https://s3.amazonaws.com/3kricegenome/reduced/NB-core_v4.map.gz'"
   ]
  },
  {
   "cell_type": "code",
   "execution_count": 6,
   "metadata": {
    "collapsed": false,
    "deletable": true,
    "editable": true
   },
   "outputs": [
    {
     "name": "stdout",
     "output_type": "stream",
     "text": [
      "On branch master\n",
      "\n",
      "Initial commit\n",
      "\n",
      "Untracked files:\n",
      "  (use \"git add <file>...\" to include in what will be committed)\n",
      "\n",
      "\t\u001b[31mNB-core_v4.map.gz\u001b[m\n",
      "\n",
      "nothing added to commit but untracked files present (use \"git add\" to track)\n"
     ]
    }
   ],
   "source": [
    "git status"
   ]
  },
  {
   "cell_type": "markdown",
   "metadata": {
    "deletable": true,
    "editable": true
   },
   "source": [
    "Git сообщает, что файл `NB-core_v4.map.gz` ему незнаком (untracked)."
   ]
  },
  {
   "cell_type": "markdown",
   "metadata": {
    "collapsed": true,
    "deletable": true,
    "editable": true
   },
   "source": [
    "---"
   ]
  },
  {
   "cell_type": "markdown",
   "metadata": {
    "deletable": true,
    "editable": true
   },
   "source": [
    "# Сохранение изменений"
   ]
  },
  {
   "cell_type": "markdown",
   "metadata": {
    "deletable": true,
    "editable": true
   },
   "source": [
    "Появление в директории нового файла является изменением. Но если `NB-core_v4.map.gz` удалить на данном этапе, то git никак не поможет его восстановить, потому что git не следит за этим файлом. Чтобы добавить этот файл в репозиторий (поручить за ним следить), используется следующая команда:"
   ]
  },
  {
   "cell_type": "code",
   "execution_count": 7,
   "metadata": {
    "collapsed": true,
    "deletable": true,
    "editable": true
   },
   "outputs": [],
   "source": [
    "git add NB-core_v4.map.gz"
   ]
  },
  {
   "cell_type": "code",
   "execution_count": 9,
   "metadata": {
    "collapsed": false,
    "deletable": true,
    "editable": true
   },
   "outputs": [
    {
     "name": "stdout",
     "output_type": "stream",
     "text": [
      "On branch master\n",
      "\n",
      "Initial commit\n",
      "\n",
      "Changes to be committed:\n",
      "  (use \"git rm --cached <file>...\" to unstage)\n",
      "\n",
      "\t\u001b[32mnew file:   NB-core_v4.map.gz\u001b[m\n",
      "\n"
     ]
    }
   ],
   "source": [
    "git status"
   ]
  },
  {
   "cell_type": "markdown",
   "metadata": {
    "deletable": true,
    "editable": true
   },
   "source": [
    "Сохранение изменений в git происходит в два шага: добавление изменения в индекс (index or staging area) и сохранение индекса в виде коммита. Коммит навсегда запоминает изменения, сложенные в индекс."
   ]
  },
  {
   "cell_type": "code",
   "execution_count": 10,
   "metadata": {
    "collapsed": false,
    "deletable": true,
    "editable": true
   },
   "outputs": [
    {
     "name": "stdout",
     "output_type": "stream",
     "text": [
      "[master (root-commit) 0663f3d] Add an example input\n",
      " 1 file changed, 0 insertions(+), 0 deletions(-)\n",
      " create mode 100644 NB-core_v4.map.gz\n"
     ]
    }
   ],
   "source": [
    "git commit -m 'Add an example input'"
   ]
  },
  {
   "cell_type": "code",
   "execution_count": 11,
   "metadata": {
    "collapsed": false,
    "deletable": true,
    "editable": true
   },
   "outputs": [
    {
     "name": "stdout",
     "output_type": "stream",
     "text": [
      "On branch master\n",
      "nothing to commit, working tree clean\n"
     ]
    }
   ],
   "source": [
    "git status"
   ]
  },
  {
   "cell_type": "markdown",
   "metadata": {
    "deletable": true,
    "editable": true
   },
   "source": [
    "Каждый коммит сопровождается кратким и развёрнутым описаниями изменений, которые он содержит. Краткое описание принято писать в императиве аналогично описаниям автоматических коммитов, которые иногда создаёт сам git."
   ]
  },
  {
   "cell_type": "markdown",
   "metadata": {
    "collapsed": true,
    "deletable": true,
    "editable": true
   },
   "source": [
    "---"
   ]
  },
  {
   "cell_type": "markdown",
   "metadata": {
    "deletable": true,
    "editable": true
   },
   "source": [
    "## Инициализация скрипта"
   ]
  },
  {
   "cell_type": "code",
   "execution_count": 12,
   "metadata": {
    "collapsed": true,
    "deletable": true,
    "editable": true
   },
   "outputs": [],
   "source": [
    "touch count.sh"
   ]
  },
  {
   "cell_type": "markdown",
   "metadata": {
    "deletable": true,
    "editable": true
   },
   "source": [
    "### count.sh"
   ]
  },
  {
   "cell_type": "raw",
   "metadata": {
    "deletable": true,
    "editable": true
   },
   "source": [
    "#!/usr/bin/env bash"
   ]
  },
  {
   "cell_type": "code",
   "execution_count": 13,
   "metadata": {
    "collapsed": false,
    "deletable": true,
    "editable": true
   },
   "outputs": [
    {
     "name": "stdout",
     "output_type": "stream",
     "text": [
      "On branch master\n",
      "Untracked files:\n",
      "  (use \"git add <file>...\" to include in what will be committed)\n",
      "\n",
      "\t\u001b[31mcount.sh\u001b[m\n",
      "\n",
      "nothing added to commit but untracked files present (use \"git add\" to track)\n"
     ]
    }
   ],
   "source": [
    "git status"
   ]
  },
  {
   "cell_type": "code",
   "execution_count": 14,
   "metadata": {
    "collapsed": true,
    "deletable": true,
    "editable": true
   },
   "outputs": [],
   "source": [
    "git add count.sh"
   ]
  },
  {
   "cell_type": "code",
   "execution_count": 15,
   "metadata": {
    "collapsed": false,
    "deletable": true,
    "editable": true
   },
   "outputs": [
    {
     "name": "stdout",
     "output_type": "stream",
     "text": [
      "[master 12ac34a] Init the script\n",
      " 1 file changed, 1 insertion(+)\n",
      " create mode 100644 count.sh\n"
     ]
    }
   ],
   "source": [
    "git commit -m 'Init the script'"
   ]
  },
  {
   "cell_type": "markdown",
   "metadata": {
    "collapsed": true,
    "deletable": true,
    "editable": true
   },
   "source": [
    "---"
   ]
  },
  {
   "cell_type": "markdown",
   "metadata": {
    "deletable": true,
    "editable": true
   },
   "source": [
    "### count.sh"
   ]
  },
  {
   "cell_type": "code",
   "execution_count": null,
   "metadata": {
    "collapsed": true,
    "deletable": true,
    "editable": true
   },
   "outputs": [],
   "source": [
    "#!/usr/bin/env bash\n",
    "\n",
    "awk < $1 '{ count[$1]++; } END { for (i in count) { print i, count[i] }}'"
   ]
  },
  {
   "cell_type": "markdown",
   "metadata": {
    "collapsed": true,
    "deletable": true,
    "editable": true
   },
   "source": [
    "---"
   ]
  },
  {
   "cell_type": "markdown",
   "metadata": {
    "deletable": true,
    "editable": true
   },
   "source": [
    "# Подготовка файлов"
   ]
  },
  {
   "cell_type": "code",
   "execution_count": 16,
   "metadata": {
    "collapsed": true,
    "deletable": true,
    "editable": true
   },
   "outputs": [],
   "source": [
    "gzip -dc 'NB-core_v4.map.gz' > rice.map"
   ]
  },
  {
   "cell_type": "code",
   "execution_count": 17,
   "metadata": {
    "collapsed": false,
    "deletable": true,
    "editable": true
   },
   "outputs": [
    {
     "name": "stdout",
     "output_type": "stream",
     "text": [
      "bash: ./count.sh: Permission denied\n"
     ]
    },
    {
     "ename": "",
     "evalue": "126",
     "output_type": "error",
     "traceback": []
    }
   ],
   "source": [
    "./count.sh"
   ]
  },
  {
   "cell_type": "code",
   "execution_count": 18,
   "metadata": {
    "collapsed": true,
    "deletable": true,
    "editable": true
   },
   "outputs": [],
   "source": [
    "chmod +x ./count.sh"
   ]
  },
  {
   "cell_type": "markdown",
   "metadata": {
    "collapsed": true,
    "deletable": true,
    "editable": true
   },
   "source": [
    "---"
   ]
  },
  {
   "cell_type": "code",
   "execution_count": 19,
   "metadata": {
    "collapsed": false,
    "deletable": true,
    "editable": true
   },
   "outputs": [
    {
     "name": "stdout",
     "output_type": "stream",
     "text": [
      "2 84248\n",
      "3 74582\n",
      "4 98579\n",
      "5 82672\n",
      "6 81926\n",
      "7 79933\n",
      "8 90302\n",
      "9 62668\n",
      "10 73685\n",
      "11 100070\n",
      "12 76540\n",
      "1 90804\n"
     ]
    }
   ],
   "source": [
    "./count.sh rice.map"
   ]
  },
  {
   "cell_type": "markdown",
   "metadata": {
    "collapsed": true,
    "deletable": true,
    "editable": true
   },
   "source": [
    "---"
   ]
  },
  {
   "cell_type": "markdown",
   "metadata": {
    "deletable": true,
    "editable": true
   },
   "source": [
    "# Выбор изменений для коммита"
   ]
  },
  {
   "cell_type": "code",
   "execution_count": 20,
   "metadata": {
    "collapsed": false,
    "deletable": true,
    "editable": true
   },
   "outputs": [
    {
     "name": "stdout",
     "output_type": "stream",
     "text": [
      "On branch master\n",
      "Changes not staged for commit:\n",
      "  (use \"git add <file>...\" to update what will be committed)\n",
      "  (use \"git checkout -- <file>...\" to discard changes in working directory)\n",
      "\n",
      "\t\u001b[31mmodified:   count.sh\u001b[m\n",
      "\n",
      "Untracked files:\n",
      "  (use \"git add <file>...\" to include in what will be committed)\n",
      "\n",
      "\t\u001b[31mrice.map\u001b[m\n",
      "\n",
      "no changes added to commit (use \"git add\" and/or \"git commit -a\")\n"
     ]
    }
   ],
   "source": [
    "git status"
   ]
  },
  {
   "cell_type": "markdown",
   "metadata": {
    "deletable": true,
    "editable": true
   },
   "source": [
    "В директории произошло два не связанных изменения: извлечение файла из архива и написание скрипта. Сохранять эти два изменения в одном коммите нежелательно, так как для извлечении максимальной пользы из использования git, коммиты следует делать максимально гранулярными.\n",
    "\n",
    "Промежуточный шаг добавления в индекс существует, чтобы разделить эти два уже случившихся изменения на два коммита."
   ]
  },
  {
   "cell_type": "code",
   "execution_count": 20,
   "metadata": {
    "collapsed": true,
    "deletable": true,
    "editable": true
   },
   "outputs": [],
   "source": [
    "git add rice.map"
   ]
  },
  {
   "cell_type": "code",
   "execution_count": 21,
   "metadata": {
    "collapsed": false,
    "deletable": true,
    "editable": true
   },
   "outputs": [
    {
     "name": "stdout",
     "output_type": "stream",
     "text": [
      "[master b25dc2c] Unzip the MAP file for rice\n",
      " 1 file changed, 996009 insertions(+)\n",
      " create mode 100644 rice.map\n"
     ]
    }
   ],
   "source": [
    "git commit -m 'Unzip the MAP file for rice'"
   ]
  },
  {
   "cell_type": "code",
   "execution_count": 22,
   "metadata": {
    "collapsed": false,
    "deletable": true,
    "editable": true
   },
   "outputs": [
    {
     "name": "stdout",
     "output_type": "stream",
     "text": [
      "On branch master\n",
      "Changes not staged for commit:\n",
      "  (use \"git add <file>...\" to update what will be committed)\n",
      "  (use \"git checkout -- <file>...\" to discard changes in working directory)\n",
      "\n",
      "\t\u001b[31mmodified:   count.sh\u001b[m\n",
      "\n",
      "no changes added to commit (use \"git add\" and/or \"git commit -a\")\n"
     ]
    }
   ],
   "source": [
    "git status"
   ]
  },
  {
   "cell_type": "code",
   "execution_count": 23,
   "metadata": {
    "collapsed": true,
    "deletable": true,
    "editable": true
   },
   "outputs": [],
   "source": [
    "git add count.sh"
   ]
  },
  {
   "cell_type": "code",
   "execution_count": 24,
   "metadata": {
    "collapsed": false,
    "deletable": true,
    "editable": true
   },
   "outputs": [
    {
     "name": "stdout",
     "output_type": "stream",
     "text": [
      "[master 0501706] Implement counting using awk\n",
      " 1 file changed, 2 insertions(+)\n",
      " mode change 100644 => 100755 count.sh\n"
     ]
    }
   ],
   "source": [
    "git commit -m 'Implement counting using awk'"
   ]
  },
  {
   "cell_type": "code",
   "execution_count": 25,
   "metadata": {
    "collapsed": false,
    "deletable": true,
    "editable": true
   },
   "outputs": [
    {
     "name": "stdout",
     "output_type": "stream",
     "text": [
      "On branch master\n",
      "nothing to commit, working tree clean\n"
     ]
    }
   ],
   "source": [
    "git status"
   ]
  },
  {
   "cell_type": "markdown",
   "metadata": {
    "collapsed": true,
    "deletable": true,
    "editable": true
   },
   "source": [
    "---"
   ]
  },
  {
   "cell_type": "markdown",
   "metadata": {
    "deletable": true,
    "editable": true
   },
   "source": [
    "# Просмотр истории"
   ]
  },
  {
   "cell_type": "code",
   "execution_count": 26,
   "metadata": {
    "collapsed": false,
    "deletable": true,
    "editable": true
   },
   "outputs": [
    {
     "name": "stdout",
     "output_type": "stream",
     "text": [
      "\u001b[33mcommit 050170610a075abf1fc38c7f890e749a2ae523e9\u001b[m\n",
      "Author: Ivan Dmitrievsky <ivan.dmitrievsky@gmail.com>\n",
      "Date:   Tue Feb 28 17:33:20 2017 +0300\n",
      "\n",
      "    Implement counting using awk\n",
      "\n",
      "\u001b[33mcommit b25dc2c4483061773a7148766d56ca53e7483daa\u001b[m\n",
      "Author: Ivan Dmitrievsky <ivan.dmitrievsky@gmail.com>\n",
      "Date:   Tue Feb 28 17:33:17 2017 +0300\n",
      "\n",
      "    Unzip the MAP file for rice\n",
      "\n",
      "\u001b[33mcommit 12ac34aa45bbe19b130eb2343475d65373c0dffb\u001b[m\n",
      "Author: Ivan Dmitrievsky <ivan.dmitrievsky@gmail.com>\n",
      "Date:   Tue Feb 28 17:25:22 2017 +0300\n",
      "\n",
      "    Init the script\n",
      "\n",
      "\u001b[33mcommit 0663f3d5edbf8c098ab8d210efb873dc88aa3d85\u001b[m\n",
      "Author: Ivan Dmitrievsky <ivan.dmitrievsky@gmail.com>\n",
      "Date:   Tue Feb 28 17:24:27 2017 +0300\n",
      "\n",
      "    Add an example input\n"
     ]
    }
   ],
   "source": [
    "git log"
   ]
  },
  {
   "cell_type": "markdown",
   "metadata": {
    "deletable": true,
    "editable": true
   },
   "source": [
    "Команда `log` отображает историю коммитов в репозитории. Каждый коммит имеет уникальный ключ, который используется, чтобы ссылаться на него, дату создания, автора и прочую информацию."
   ]
  },
  {
   "cell_type": "markdown",
   "metadata": {
    "deletable": true,
    "editable": true
   },
   "source": [
    "`log` предоставляет большое количество опций для настроек вывода истории."
   ]
  },
  {
   "cell_type": "code",
   "execution_count": 27,
   "metadata": {
    "collapsed": false,
    "deletable": true,
    "editable": true
   },
   "outputs": [
    {
     "name": "stdout",
     "output_type": "stream",
     "text": [
      "\u001b[33m050170610a075abf1fc38c7f890e749a2ae523e9\u001b[m Implement counting using awk\n",
      "\u001b[33mb25dc2c4483061773a7148766d56ca53e7483daa\u001b[m Unzip the MAP file for rice\n",
      "\u001b[33m12ac34aa45bbe19b130eb2343475d65373c0dffb\u001b[m Init the script\n",
      "\u001b[33m0663f3d5edbf8c098ab8d210efb873dc88aa3d85\u001b[m Add an example input\n"
     ]
    }
   ],
   "source": [
    "git log --pretty=oneline"
   ]
  },
  {
   "cell_type": "code",
   "execution_count": 31,
   "metadata": {
    "collapsed": false,
    "deletable": true,
    "editable": true
   },
   "outputs": [
    {
     "name": "stdout",
     "output_type": "stream",
     "text": [
      "\u001b[33m050170610a075abf1fc38c7f890e749a2ae523e9\u001b[m Implement counting using awk\n",
      "\u001b[33mb25dc2c4483061773a7148766d56ca53e7483daa\u001b[m Unzip the MAP file for rice\n"
     ]
    }
   ],
   "source": [
    "git log --pretty=oneline --since='5 minutes ago'"
   ]
  },
  {
   "cell_type": "code",
   "execution_count": 32,
   "metadata": {
    "collapsed": false,
    "deletable": true,
    "editable": true
   },
   "outputs": [
    {
     "name": "stdout",
     "output_type": "stream",
     "text": [
      "* \u001b[33m050170610a075abf1fc38c7f890e749a2ae523e9\u001b[m Implement counting using awk\n",
      "* \u001b[33mb25dc2c4483061773a7148766d56ca53e7483daa\u001b[m Unzip the MAP file for rice\n",
      "* \u001b[33m12ac34aa45bbe19b130eb2343475d65373c0dffb\u001b[m Init the script\n",
      "* \u001b[33m0663f3d5edbf8c098ab8d210efb873dc88aa3d85\u001b[m Add an example input\n"
     ]
    }
   ],
   "source": [
    "git log --pretty=oneline --graph "
   ]
  },
  {
   "cell_type": "markdown",
   "metadata": {
    "collapsed": true,
    "deletable": true,
    "editable": true
   },
   "source": [
    "---"
   ]
  },
  {
   "cell_type": "markdown",
   "metadata": {
    "deletable": true,
    "editable": true
   },
   "source": [
    "# Передвижение по истории"
   ]
  },
  {
   "cell_type": "markdown",
   "metadata": {
    "deletable": true,
    "editable": true
   },
   "source": [
    "Git хранит историю как цепочку коммитов. Так как существует возможность перемещения между коммитами, git имеет специальный указатель на текущий коммит, который называется `HEAD`."
   ]
  },
  {
   "cell_type": "code",
   "execution_count": 36,
   "metadata": {
    "collapsed": false,
    "deletable": true,
    "editable": true
   },
   "outputs": [
    {
     "name": "stdout",
     "output_type": "stream",
     "text": [
      "Previous HEAD position was 0501706... Implement counting using awk\n",
      "HEAD is now at 12ac34a... Init the script\n"
     ]
    }
   ],
   "source": [
    "git checkout 12ac3"
   ]
  },
  {
   "cell_type": "code",
   "execution_count": 38,
   "metadata": {
    "collapsed": false,
    "deletable": true,
    "editable": true
   },
   "outputs": [
    {
     "name": "stdout",
     "output_type": "stream",
     "text": [
      "\u001b[31mHEAD detached at \u001b[m12ac34a\n",
      "nothing to commit, working tree clean\n"
     ]
    }
   ],
   "source": [
    "git status"
   ]
  },
  {
   "cell_type": "code",
   "execution_count": 37,
   "metadata": {
    "collapsed": false,
    "deletable": true,
    "editable": true
   },
   "outputs": [
    {
     "name": "stdout",
     "output_type": "stream",
     "text": [
      "total 12096\n",
      "drwxr-xr-x   5 idmit  staff   170B Feb 28 17:38 .\n",
      "drwxr-xr-x   3 idmit  staff   102B Feb 28 17:05 ..\n",
      "drwxr-xr-x  12 idmit  staff   408B Feb 28 17:38 .git\n",
      "-rw-r--r--   1 idmit  staff   5.9M Feb 28 17:11 NB-core_v4.map.gz\n",
      "-rw-r--r--   1 idmit  staff    20B Feb 28 17:38 count.sh\n"
     ]
    }
   ],
   "source": [
    "ls -lah"
   ]
  },
  {
   "cell_type": "markdown",
   "metadata": {
    "deletable": true,
    "editable": true
   },
   "source": [
    "Так как коммит `12ac3` предшествует извлечению файла с входными данными из архива, файл `rice.map` отсутствует в директории. "
   ]
  },
  {
   "cell_type": "markdown",
   "metadata": {
    "deletable": true,
    "editable": true
   },
   "source": [
    "Чтобы вернуться назад, нужно вспомнить ключ последнего коммита в истории, который сейчас в истории не отображается."
   ]
  },
  {
   "cell_type": "code",
   "execution_count": 39,
   "metadata": {
    "collapsed": false,
    "deletable": true,
    "editable": true
   },
   "outputs": [
    {
     "name": "stdout",
     "output_type": "stream",
     "text": [
      "* \u001b[33m12ac34aa45bbe19b130eb2343475d65373c0dffb\u001b[m Init the script\n",
      "* \u001b[33m0663f3d5edbf8c098ab8d210efb873dc88aa3d85\u001b[m Add an example input\n"
     ]
    }
   ],
   "source": [
    "git log --pretty=oneline --graph "
   ]
  },
  {
   "cell_type": "markdown",
   "metadata": {
    "deletable": true,
    "editable": true
   },
   "source": [
    "К счастью, git по-умолчанию создаёт и хранит указатель на последний коммит в репозитории. Этот указатель называется `master`."
   ]
  },
  {
   "cell_type": "code",
   "execution_count": 40,
   "metadata": {
    "collapsed": false,
    "deletable": true,
    "editable": true
   },
   "outputs": [
    {
     "name": "stdout",
     "output_type": "stream",
     "text": [
      "Previous HEAD position was 12ac34a... Init the script\n",
      "Switched to branch 'master'\n"
     ]
    }
   ],
   "source": [
    "git checkout master"
   ]
  },
  {
   "cell_type": "markdown",
   "metadata": {
    "collapsed": true,
    "deletable": true,
    "editable": true
   },
   "source": [
    "---"
   ]
  },
  {
   "cell_type": "markdown",
   "metadata": {
    "deletable": true,
    "editable": true
   },
   "source": [
    "# Отмена изменений до индексации"
   ]
  },
  {
   "cell_type": "markdown",
   "metadata": {
    "deletable": true,
    "editable": true
   },
   "source": [
    "Иногда в репозитории могут происходить нежелательные изменения."
   ]
  },
  {
   "cell_type": "code",
   "execution_count": 42,
   "metadata": {
    "collapsed": true,
    "deletable": true,
    "editable": true
   },
   "outputs": [],
   "source": [
    "echo 'O-ops!' > count.sh"
   ]
  },
  {
   "cell_type": "code",
   "execution_count": 44,
   "metadata": {
    "collapsed": false,
    "deletable": true,
    "editable": true
   },
   "outputs": [
    {
     "name": "stdout",
     "output_type": "stream",
     "text": [
      "O-ops!\n"
     ]
    }
   ],
   "source": [
    "cat count.sh"
   ]
  },
  {
   "cell_type": "code",
   "execution_count": 45,
   "metadata": {
    "collapsed": false,
    "deletable": true,
    "editable": true
   },
   "outputs": [
    {
     "name": "stdout",
     "output_type": "stream",
     "text": [
      "On branch master\n",
      "Changes not staged for commit:\n",
      "  (use \"git add <file>...\" to update what will be committed)\n",
      "  (use \"git checkout -- <file>...\" to discard changes in working directory)\n",
      "\n",
      "\t\u001b[31mmodified:   count.sh\u001b[m\n",
      "\n",
      "no changes added to commit (use \"git add\" and/or \"git commit -a\")\n"
     ]
    }
   ],
   "source": [
    "git status"
   ]
  },
  {
   "cell_type": "markdown",
   "metadata": {
    "deletable": true,
    "editable": true
   },
   "source": [
    "Git знает, что файл изменился, но ещё не начал сохранять эти изменения — они даже не добавлены в индекс. Чтобы отменить изменение в определённом файле можно снова применить команду `checkout`, которая переключит содержимое файла на сохранённое в репозитории."
   ]
  },
  {
   "cell_type": "code",
   "execution_count": 47,
   "metadata": {
    "collapsed": true,
    "deletable": true,
    "editable": true
   },
   "outputs": [],
   "source": [
    "git checkout -- count.sh"
   ]
  },
  {
   "cell_type": "code",
   "execution_count": 48,
   "metadata": {
    "collapsed": false,
    "deletable": true,
    "editable": true
   },
   "outputs": [
    {
     "name": "stdout",
     "output_type": "stream",
     "text": [
      "#!/usr/bin/env bash\n",
      "\n",
      "awk < $1 '{ count[$1]++; } END { for (i in count) { print i, count[i] }}'\n"
     ]
    }
   ],
   "source": [
    "cat count.sh"
   ]
  },
  {
   "cell_type": "markdown",
   "metadata": {
    "collapsed": true,
    "deletable": true,
    "editable": true
   },
   "source": [
    "---"
   ]
  },
  {
   "cell_type": "markdown",
   "metadata": {
    "deletable": true,
    "editable": true
   },
   "source": [
    "# Отмена изменений после индексации"
   ]
  },
  {
   "cell_type": "code",
   "execution_count": 49,
   "metadata": {
    "collapsed": true,
    "deletable": true,
    "editable": true
   },
   "outputs": [],
   "source": [
    "echo 'O-ops!' > count.sh"
   ]
  },
  {
   "cell_type": "code",
   "execution_count": 50,
   "metadata": {
    "collapsed": false,
    "deletable": true,
    "editable": true
   },
   "outputs": [
    {
     "name": "stdout",
     "output_type": "stream",
     "text": [
      "O-ops!\n"
     ]
    }
   ],
   "source": [
    "cat count.sh"
   ]
  },
  {
   "cell_type": "markdown",
   "metadata": {
    "deletable": true,
    "editable": true
   },
   "source": [
    "Иногда изменения могут быть добавлены в индекс невовремя, и возникает желание их оттуда извлечь."
   ]
  },
  {
   "cell_type": "code",
   "execution_count": 53,
   "metadata": {
    "collapsed": true,
    "deletable": true,
    "editable": true
   },
   "outputs": [],
   "source": [
    "git add count.sh"
   ]
  },
  {
   "cell_type": "code",
   "execution_count": 54,
   "metadata": {
    "collapsed": false,
    "deletable": true,
    "editable": true
   },
   "outputs": [
    {
     "name": "stdout",
     "output_type": "stream",
     "text": [
      "On branch master\n",
      "Changes to be committed:\n",
      "  (use \"git reset HEAD <file>...\" to unstage)\n",
      "\n",
      "\t\u001b[32mmodified:   count.sh\u001b[m\n",
      "\n"
     ]
    }
   ],
   "source": [
    "git status"
   ]
  },
  {
   "cell_type": "markdown",
   "metadata": {
    "deletable": true,
    "editable": true
   },
   "source": [
    "Тогда команда `checkout` не поможет, потому что git воспринимает версию файла в индексе как самую свежую сохранённую версию файла."
   ]
  },
  {
   "cell_type": "code",
   "execution_count": 55,
   "metadata": {
    "collapsed": true,
    "deletable": true,
    "editable": true
   },
   "outputs": [],
   "source": [
    "git checkout count.sh"
   ]
  },
  {
   "cell_type": "code",
   "execution_count": 56,
   "metadata": {
    "collapsed": false,
    "deletable": true,
    "editable": true
   },
   "outputs": [
    {
     "name": "stdout",
     "output_type": "stream",
     "text": [
      "O-ops!\n"
     ]
    }
   ],
   "source": [
    "cat count.sh"
   ]
  },
  {
   "cell_type": "code",
   "execution_count": 57,
   "metadata": {
    "collapsed": false,
    "deletable": true,
    "editable": true
   },
   "outputs": [
    {
     "name": "stdout",
     "output_type": "stream",
     "text": [
      "On branch master\n",
      "Changes to be committed:\n",
      "  (use \"git reset HEAD <file>...\" to unstage)\n",
      "\n",
      "\t\u001b[32mmodified:   count.sh\u001b[m\n",
      "\n"
     ]
    }
   ],
   "source": [
    "git status"
   ]
  },
  {
   "cell_type": "markdown",
   "metadata": {
    "deletable": true,
    "editable": true
   },
   "source": [
    "Команда `reset` извлекает файл из индекса."
   ]
  },
  {
   "cell_type": "code",
   "execution_count": 58,
   "metadata": {
    "collapsed": false,
    "deletable": true,
    "editable": true
   },
   "outputs": [
    {
     "name": "stdout",
     "output_type": "stream",
     "text": [
      "Unstaged changes after reset:\n",
      "M\tcount.sh\n"
     ]
    }
   ],
   "source": [
    "git reset count.sh"
   ]
  },
  {
   "cell_type": "markdown",
   "metadata": {
    "deletable": true,
    "editable": true
   },
   "source": [
    "При этом изменения, сделанные в файле, не отменяются."
   ]
  },
  {
   "cell_type": "code",
   "execution_count": 60,
   "metadata": {
    "collapsed": false,
    "deletable": true,
    "editable": true
   },
   "outputs": [
    {
     "name": "stdout",
     "output_type": "stream",
     "text": [
      "On branch master\n",
      "Changes not staged for commit:\n",
      "  (use \"git add <file>...\" to update what will be committed)\n",
      "  (use \"git checkout -- <file>...\" to discard changes in working directory)\n",
      "\n",
      "\t\u001b[31mmodified:   count.sh\u001b[m\n",
      "\n",
      "no changes added to commit (use \"git add\" and/or \"git commit -a\")\n"
     ]
    }
   ],
   "source": [
    "git status"
   ]
  },
  {
   "cell_type": "code",
   "execution_count": 61,
   "metadata": {
    "collapsed": false,
    "deletable": true,
    "editable": true
   },
   "outputs": [
    {
     "name": "stdout",
     "output_type": "stream",
     "text": [
      "O-ops!\n"
     ]
    }
   ],
   "source": [
    "cat count.sh"
   ]
  },
  {
   "cell_type": "markdown",
   "metadata": {
    "deletable": true,
    "editable": true
   },
   "source": [
    "Непроиндексированные изменения по-прежнему можно отменить командой `checkout`."
   ]
  },
  {
   "cell_type": "code",
   "execution_count": 63,
   "metadata": {
    "collapsed": true,
    "deletable": true,
    "editable": true
   },
   "outputs": [],
   "source": [
    "git checkout -- count.sh"
   ]
  },
  {
   "cell_type": "code",
   "execution_count": 64,
   "metadata": {
    "collapsed": false,
    "deletable": true,
    "editable": true
   },
   "outputs": [
    {
     "name": "stdout",
     "output_type": "stream",
     "text": [
      "On branch master\n",
      "nothing to commit, working tree clean\n"
     ]
    }
   ],
   "source": [
    "git status"
   ]
  },
  {
   "cell_type": "code",
   "execution_count": 65,
   "metadata": {
    "collapsed": false,
    "deletable": true,
    "editable": true
   },
   "outputs": [
    {
     "name": "stdout",
     "output_type": "stream",
     "text": [
      "#!/usr/bin/env bash\n",
      "\n",
      "awk < $1 '{ count[$1]++; } END { for (i in count) { print i, count[i] }}'\n"
     ]
    }
   ],
   "source": [
    "cat count.sh"
   ]
  },
  {
   "cell_type": "markdown",
   "metadata": {
    "collapsed": true,
    "deletable": true,
    "editable": true
   },
   "source": [
    "---"
   ]
  },
  {
   "cell_type": "markdown",
   "metadata": {
    "deletable": true,
    "editable": true
   },
   "source": [
    "# Безопасная отмена целых коммитов"
   ]
  },
  {
   "cell_type": "code",
   "execution_count": 66,
   "metadata": {
    "collapsed": true,
    "deletable": true,
    "editable": true
   },
   "outputs": [],
   "source": [
    "echo 'O-ops!' > count.sh"
   ]
  },
  {
   "cell_type": "code",
   "execution_count": 67,
   "metadata": {
    "collapsed": false,
    "deletable": true,
    "editable": true
   },
   "outputs": [
    {
     "name": "stdout",
     "output_type": "stream",
     "text": [
      "O-ops!\n"
     ]
    }
   ],
   "source": [
    "cat count.sh"
   ]
  },
  {
   "cell_type": "code",
   "execution_count": 68,
   "metadata": {
    "collapsed": true,
    "deletable": true,
    "editable": true
   },
   "outputs": [],
   "source": [
    "git add count.sh"
   ]
  },
  {
   "cell_type": "markdown",
   "metadata": {
    "deletable": true,
    "editable": true
   },
   "source": [
    "Случается, что нежелательные изменения оказываются сохранены в коммите."
   ]
  },
  {
   "cell_type": "code",
   "execution_count": 69,
   "metadata": {
    "collapsed": false,
    "deletable": true,
    "editable": true
   },
   "outputs": [
    {
     "name": "stdout",
     "output_type": "stream",
     "text": [
      "[master 8560d3b] Remove the script\n",
      " 1 file changed, 1 insertion(+), 3 deletions(-)\n"
     ]
    }
   ],
   "source": [
    "git commit -m 'Remove the script'"
   ]
  },
  {
   "cell_type": "markdown",
   "metadata": {
    "deletable": true,
    "editable": true
   },
   "source": [
    "Для таких случаев существует команда `revert`, которая создаёт новый коммит, возвращающий состояние директории к состоянию, сохранённому в предшествующем коммите. Чтобы обратить последний коммит, достаточно обратить `HEAD`."
   ]
  },
  {
   "cell_type": "code",
   "execution_count": 70,
   "metadata": {
    "collapsed": false,
    "deletable": true,
    "editable": true
   },
   "outputs": [
    {
     "name": "stdout",
     "output_type": "stream",
     "text": [
      "[master 75c0bea] Revert \"Remove the script\"\n",
      " 1 file changed, 3 insertions(+), 1 deletion(-)\n"
     ]
    }
   ],
   "source": [
    "git revert HEAD --no-edit"
   ]
  },
  {
   "cell_type": "code",
   "execution_count": 71,
   "metadata": {
    "collapsed": false,
    "deletable": true,
    "editable": true
   },
   "outputs": [
    {
     "name": "stdout",
     "output_type": "stream",
     "text": [
      "#!/usr/bin/env bash\n",
      "\n",
      "awk < $1 '{ count[$1]++; } END { for (i in count) { print i, count[i] }}'\n"
     ]
    }
   ],
   "source": [
    "cat count.sh"
   ]
  },
  {
   "cell_type": "code",
   "execution_count": 72,
   "metadata": {
    "collapsed": false,
    "deletable": true,
    "editable": true
   },
   "outputs": [
    {
     "name": "stdout",
     "output_type": "stream",
     "text": [
      "* \u001b[33m75c0bea5b33e4cffb7181184a3dfebb51eb35cb4\u001b[m Revert \"Remove the script\"\n",
      "* \u001b[33m8560d3be877ed9749e88c3e816a051da49efc549\u001b[m Remove the script\n",
      "* \u001b[33m050170610a075abf1fc38c7f890e749a2ae523e9\u001b[m Implement counting using awk\n",
      "* \u001b[33mb25dc2c4483061773a7148766d56ca53e7483daa\u001b[m Unzip the MAP file for rice\n",
      "* \u001b[33m12ac34aa45bbe19b130eb2343475d65373c0dffb\u001b[m Init the script\n",
      "* \u001b[33m0663f3d5edbf8c098ab8d210efb873dc88aa3d85\u001b[m Add an example input\n"
     ]
    }
   ],
   "source": [
    "git log --pretty=oneline --graph "
   ]
  },
  {
   "cell_type": "markdown",
   "metadata": {
    "collapsed": true,
    "deletable": true,
    "editable": true
   },
   "source": [
    "---"
   ]
  },
  {
   "cell_type": "markdown",
   "metadata": {
    "deletable": true,
    "editable": true
   },
   "source": [
    "# Внесение изменений в последний коммит"
   ]
  },
  {
   "cell_type": "markdown",
   "metadata": {
    "deletable": true,
    "editable": true
   },
   "source": [
    "### count.sh"
   ]
  },
  {
   "cell_type": "code",
   "execution_count": null,
   "metadata": {
    "collapsed": true,
    "deletable": true,
    "editable": true
   },
   "outputs": [],
   "source": [
    "#!/usr/bin/env bash\n",
    "\n",
    "# Ivan Dmitrievsky\n",
    "\n",
    "awk < $1 '{ count[$1]++; } END { for (i in count) { print i, count[i] }}'"
   ]
  },
  {
   "cell_type": "code",
   "execution_count": 73,
   "metadata": {
    "collapsed": true,
    "deletable": true,
    "editable": true
   },
   "outputs": [],
   "source": [
    "git add count.sh"
   ]
  },
  {
   "cell_type": "code",
   "execution_count": 74,
   "metadata": {
    "collapsed": false,
    "deletable": true,
    "editable": true
   },
   "outputs": [
    {
     "name": "stdout",
     "output_type": "stream",
     "text": [
      "[master e7da2e7] Add a signature to the script\n",
      " 1 file changed, 2 insertions(+)\n"
     ]
    }
   ],
   "source": [
    "git commit -m 'Add a signature to the script'"
   ]
  },
  {
   "cell_type": "code",
   "execution_count": 75,
   "metadata": {
    "collapsed": false,
    "deletable": true,
    "editable": true
   },
   "outputs": [
    {
     "name": "stdout",
     "output_type": "stream",
     "text": [
      "* \u001b[33me7da2e7bc433857b369eb669bae7fdd698a88228\u001b[m Add a signature to the script\n",
      "* \u001b[33m75c0bea5b33e4cffb7181184a3dfebb51eb35cb4\u001b[m Revert \"Remove the script\"\n",
      "* \u001b[33m8560d3be877ed9749e88c3e816a051da49efc549\u001b[m Remove the script\n",
      "* \u001b[33m050170610a075abf1fc38c7f890e749a2ae523e9\u001b[m Implement counting using awk\n",
      "* \u001b[33mb25dc2c4483061773a7148766d56ca53e7483daa\u001b[m Unzip the MAP file for rice\n",
      "* \u001b[33m12ac34aa45bbe19b130eb2343475d65373c0dffb\u001b[m Init the script\n",
      "* \u001b[33m0663f3d5edbf8c098ab8d210efb873dc88aa3d85\u001b[m Add an example input\n"
     ]
    }
   ],
   "source": [
    "git log --pretty=oneline --graph "
   ]
  },
  {
   "cell_type": "markdown",
   "metadata": {
    "deletable": true,
    "editable": true
   },
   "source": [
    "### count.sh"
   ]
  },
  {
   "cell_type": "code",
   "execution_count": null,
   "metadata": {
    "collapsed": true,
    "deletable": true,
    "editable": true
   },
   "outputs": [],
   "source": [
    "#!/usr/bin/env bash\n",
    "\n",
    "# Ivan Dmitrievsky, ivan.dmitrievsky@gmail.com\n",
    "\n",
    "awk < $1 '{ count[$1]++; } END { for (i in count) { print i, count[i] }}'"
   ]
  },
  {
   "cell_type": "code",
   "execution_count": 76,
   "metadata": {
    "collapsed": true,
    "deletable": true,
    "editable": true
   },
   "outputs": [],
   "source": [
    "git add count.sh"
   ]
  },
  {
   "cell_type": "markdown",
   "metadata": {
    "deletable": true,
    "editable": true
   },
   "source": [
    "Если изменения в индексе тесно связаны с изменениями в предыдущем коммите, то ключом `--amend` их можно сохранить в предыдущий коммит."
   ]
  },
  {
   "cell_type": "code",
   "execution_count": 77,
   "metadata": {
    "collapsed": false,
    "deletable": true,
    "editable": true
   },
   "outputs": [
    {
     "name": "stdout",
     "output_type": "stream",
     "text": [
      "[master a0003be] Add contact info to the script\n",
      " Date: Tue Feb 28 18:04:59 2017 +0300\n",
      " 1 file changed, 2 insertions(+)\n"
     ]
    }
   ],
   "source": [
    "git commit --amend -m 'Add contact info to the script'"
   ]
  },
  {
   "cell_type": "code",
   "execution_count": 78,
   "metadata": {
    "collapsed": false,
    "deletable": true,
    "editable": true
   },
   "outputs": [
    {
     "name": "stdout",
     "output_type": "stream",
     "text": [
      "* \u001b[33ma0003be2668162aa1a77ab90118c55017b280762\u001b[m Add contact info to the script\n",
      "* \u001b[33m75c0bea5b33e4cffb7181184a3dfebb51eb35cb4\u001b[m Revert \"Remove the script\"\n",
      "* \u001b[33m8560d3be877ed9749e88c3e816a051da49efc549\u001b[m Remove the script\n",
      "* \u001b[33m050170610a075abf1fc38c7f890e749a2ae523e9\u001b[m Implement counting using awk\n",
      "* \u001b[33mb25dc2c4483061773a7148766d56ca53e7483daa\u001b[m Unzip the MAP file for rice\n",
      "* \u001b[33m12ac34aa45bbe19b130eb2343475d65373c0dffb\u001b[m Init the script\n",
      "* \u001b[33m0663f3d5edbf8c098ab8d210efb873dc88aa3d85\u001b[m Add an example input\n"
     ]
    }
   ],
   "source": [
    "git log --pretty=oneline --graph "
   ]
  },
  {
   "cell_type": "code",
   "execution_count": 79,
   "metadata": {
    "collapsed": false,
    "deletable": true,
    "editable": true
   },
   "outputs": [
    {
     "name": "stdout",
     "output_type": "stream",
     "text": [
      "#!/usr/bin/env bash\n",
      "\n",
      "# Ivan Dmitrievsky, ivan.dmitrievsky@gmail.com\n",
      "\n",
      "awk < $1 '{ count[$1]++; } END { for (i in count) { print i, count[i] }}'\n"
     ]
    }
   ],
   "source": [
    "cat count.sh"
   ]
  },
  {
   "cell_type": "markdown",
   "metadata": {
    "deletable": true,
    "editable": true
   },
   "source": [
    "---"
   ]
  },
  {
   "cell_type": "markdown",
   "metadata": {
    "deletable": true,
    "editable": true
   },
   "source": [
    "# Создание ветки"
   ]
  },
  {
   "cell_type": "markdown",
   "metadata": {
    "deletable": true,
    "editable": true
   },
   "source": [
    "Часто возникает желание работать одновременно над двумя вещами в одном репозитории. При этом естественным образом возрастает опасность внести нежелательные изменения. Если в таком случае продолжать вести историю линейно, то коммиты, соответствующие работе над разными вещами, будут переплетены, что означает, что почти все коммиты будут хранить версию директории в процессе изменения.\n",
    "\n",
    "Git позволяет избежать этих проблем с помощью веток."
   ]
  },
  {
   "cell_type": "code",
   "execution_count": 80,
   "metadata": {
    "collapsed": false,
    "deletable": true,
    "editable": true
   },
   "outputs": [
    {
     "name": "stdout",
     "output_type": "stream",
     "text": [
      "Switched to a new branch 'ordered-list'\n"
     ]
    }
   ],
   "source": [
    "git checkout -b ordered-list"
   ]
  },
  {
   "cell_type": "code",
   "execution_count": 81,
   "metadata": {
    "collapsed": false,
    "deletable": true,
    "editable": true
   },
   "outputs": [
    {
     "name": "stdout",
     "output_type": "stream",
     "text": [
      "On branch ordered-list\n",
      "nothing to commit, working tree clean\n"
     ]
    }
   ],
   "source": [
    "git status"
   ]
  },
  {
   "cell_type": "markdown",
   "metadata": {
    "deletable": true,
    "editable": true
   },
   "source": [
    "### count.sh | ordered-list"
   ]
  },
  {
   "cell_type": "code",
   "execution_count": null,
   "metadata": {
    "collapsed": true,
    "deletable": true,
    "editable": true
   },
   "outputs": [],
   "source": [
    "#!/usr/bin/env bash\n",
    "\n",
    "# Ivan Dmitrievsky, ivan.dmitrievsky@gmail.com\n",
    "\n",
    "cut -f 1 $1 | sort | uniq -c | sort -nr"
   ]
  },
  {
   "cell_type": "code",
   "execution_count": 82,
   "metadata": {
    "collapsed": false,
    "deletable": true,
    "editable": true
   },
   "outputs": [
    {
     "name": "stdout",
     "output_type": "stream",
     "text": [
      "100070 11\n",
      "98579 4\n",
      "90804 1\n",
      "90302 8\n",
      "84248 2\n",
      "82672 5\n",
      "81926 6\n",
      "79933 7\n",
      "76540 12\n",
      "74582 3\n",
      "73685 10\n",
      "62668 9\n"
     ]
    }
   ],
   "source": [
    "./count.sh rice.map"
   ]
  },
  {
   "cell_type": "code",
   "execution_count": 83,
   "metadata": {
    "collapsed": true,
    "deletable": true,
    "editable": true
   },
   "outputs": [],
   "source": [
    "git add count.sh"
   ]
  },
  {
   "cell_type": "code",
   "execution_count": 84,
   "metadata": {
    "collapsed": false,
    "deletable": true,
    "editable": true
   },
   "outputs": [
    {
     "name": "stdout",
     "output_type": "stream",
     "text": [
      "[ordered-list 21fe810] Change the script to print ordered list\n",
      " 1 file changed, 1 insertion(+), 1 deletion(-)\n"
     ]
    }
   ],
   "source": [
    "git commit -m 'Change the script to print ordered list'"
   ]
  },
  {
   "cell_type": "code",
   "execution_count": 85,
   "metadata": {
    "collapsed": false,
    "deletable": true,
    "editable": true
   },
   "outputs": [
    {
     "name": "stdout",
     "output_type": "stream",
     "text": [
      "On branch ordered-list\n",
      "nothing to commit, working tree clean\n"
     ]
    }
   ],
   "source": [
    "git status"
   ]
  },
  {
   "cell_type": "code",
   "execution_count": 86,
   "metadata": {
    "collapsed": false,
    "deletable": true,
    "editable": true
   },
   "outputs": [
    {
     "name": "stdout",
     "output_type": "stream",
     "text": [
      "* \u001b[33m21fe8109e7c70b856a522868e17419837d258941\u001b[m Change the script to print ordered list\n",
      "* \u001b[33ma0003be2668162aa1a77ab90118c55017b280762\u001b[m Add contact info to the script\n",
      "* \u001b[33m75c0bea5b33e4cffb7181184a3dfebb51eb35cb4\u001b[m Revert \"Remove the script\"\n",
      "* \u001b[33m8560d3be877ed9749e88c3e816a051da49efc549\u001b[m Remove the script\n",
      "* \u001b[33m050170610a075abf1fc38c7f890e749a2ae523e9\u001b[m Implement counting using awk\n",
      "* \u001b[33mb25dc2c4483061773a7148766d56ca53e7483daa\u001b[m Unzip the MAP file for rice\n",
      "* \u001b[33m12ac34aa45bbe19b130eb2343475d65373c0dffb\u001b[m Init the script\n",
      "* \u001b[33m0663f3d5edbf8c098ab8d210efb873dc88aa3d85\u001b[m Add an example input\n"
     ]
    }
   ],
   "source": [
    "git log --pretty=oneline --graph "
   ]
  },
  {
   "cell_type": "markdown",
   "metadata": {
    "deletable": true,
    "editable": true
   },
   "source": [
    "---"
   ]
  },
  {
   "cell_type": "markdown",
   "metadata": {
    "deletable": true,
    "editable": true
   },
   "source": [
    "# Навигация по веткам"
   ]
  },
  {
   "cell_type": "code",
   "execution_count": 87,
   "metadata": {
    "collapsed": false,
    "deletable": true,
    "editable": true
   },
   "outputs": [
    {
     "name": "stdout",
     "output_type": "stream",
     "text": [
      "  master\u001b[m\n",
      "* \u001b[32mordered-list\u001b[m\n"
     ]
    }
   ],
   "source": [
    "git branch"
   ]
  },
  {
   "cell_type": "code",
   "execution_count": 88,
   "metadata": {
    "collapsed": false,
    "deletable": true,
    "editable": true
   },
   "outputs": [
    {
     "name": "stdout",
     "output_type": "stream",
     "text": [
      "Switched to branch 'master'\n"
     ]
    }
   ],
   "source": [
    "git checkout master"
   ]
  },
  {
   "cell_type": "code",
   "execution_count": 89,
   "metadata": {
    "collapsed": false,
    "deletable": true,
    "editable": true
   },
   "outputs": [
    {
     "name": "stdout",
     "output_type": "stream",
     "text": [
      "#!/usr/bin/env bash\n",
      "\n",
      "# Ivan Dmitrievsky, ivan.dmitrievsky@gmail.com\n",
      "\n",
      "awk < $1 '{ count[$1]++; } END { for (i in count) { print i, count[i] }}'\n"
     ]
    }
   ],
   "source": [
    "cat count.sh"
   ]
  },
  {
   "cell_type": "code",
   "execution_count": 90,
   "metadata": {
    "collapsed": false,
    "deletable": true,
    "editable": true
   },
   "outputs": [
    {
     "name": "stdout",
     "output_type": "stream",
     "text": [
      "* \u001b[33ma0003be2668162aa1a77ab90118c55017b280762\u001b[m Add contact info to the script\n",
      "* \u001b[33m75c0bea5b33e4cffb7181184a3dfebb51eb35cb4\u001b[m Revert \"Remove the script\"\n",
      "* \u001b[33m8560d3be877ed9749e88c3e816a051da49efc549\u001b[m Remove the script\n",
      "* \u001b[33m050170610a075abf1fc38c7f890e749a2ae523e9\u001b[m Implement counting using awk\n",
      "* \u001b[33mb25dc2c4483061773a7148766d56ca53e7483daa\u001b[m Unzip the MAP file for rice\n",
      "* \u001b[33m12ac34aa45bbe19b130eb2343475d65373c0dffb\u001b[m Init the script\n",
      "* \u001b[33m0663f3d5edbf8c098ab8d210efb873dc88aa3d85\u001b[m Add an example input\n"
     ]
    }
   ],
   "source": [
    "git log --pretty=oneline --graph "
   ]
  },
  {
   "cell_type": "code",
   "execution_count": 91,
   "metadata": {
    "collapsed": false,
    "deletable": true,
    "editable": true
   },
   "outputs": [
    {
     "name": "stdout",
     "output_type": "stream",
     "text": [
      "* \u001b[33m21fe8109e7c70b856a522868e17419837d258941\u001b[m Change the script to print ordered list\n",
      "* \u001b[33ma0003be2668162aa1a77ab90118c55017b280762\u001b[m Add contact info to the script\n",
      "* \u001b[33m75c0bea5b33e4cffb7181184a3dfebb51eb35cb4\u001b[m Revert \"Remove the script\"\n",
      "* \u001b[33m8560d3be877ed9749e88c3e816a051da49efc549\u001b[m Remove the script\n",
      "* \u001b[33m050170610a075abf1fc38c7f890e749a2ae523e9\u001b[m Implement counting using awk\n",
      "* \u001b[33mb25dc2c4483061773a7148766d56ca53e7483daa\u001b[m Unzip the MAP file for rice\n",
      "* \u001b[33m12ac34aa45bbe19b130eb2343475d65373c0dffb\u001b[m Init the script\n",
      "* \u001b[33m0663f3d5edbf8c098ab8d210efb873dc88aa3d85\u001b[m Add an example input\n"
     ]
    }
   ],
   "source": [
    "git log --pretty=oneline --graph  --all"
   ]
  },
  {
   "cell_type": "markdown",
   "metadata": {
    "deletable": true,
    "editable": true
   },
   "source": [
    "Ветка `master` кончается на коммите `a0003`, а ветка `ordered-list` – на `21fe8`."
   ]
  },
  {
   "cell_type": "markdown",
   "metadata": {
    "deletable": true,
    "editable": true
   },
   "source": [
    "---"
   ]
  },
  {
   "cell_type": "markdown",
   "metadata": {
    "deletable": true,
    "editable": true
   },
   "source": [
    "# Слияние веток"
   ]
  },
  {
   "cell_type": "markdown",
   "metadata": {
    "deletable": true,
    "editable": true
   },
   "source": [
    "После завершения всех изменений, относящихся к ветке `ordered-list`, эти изменения бывает нужно перенести в обратно в ветку `master`."
   ]
  },
  {
   "cell_type": "code",
   "execution_count": 92,
   "metadata": {
    "collapsed": false,
    "deletable": true,
    "editable": true
   },
   "outputs": [
    {
     "name": "stdout",
     "output_type": "stream",
     "text": [
      "On branch master\n",
      "nothing to commit, working tree clean\n"
     ]
    }
   ],
   "source": [
    "git status"
   ]
  },
  {
   "cell_type": "markdown",
   "metadata": {
    "deletable": true,
    "editable": true
   },
   "source": [
    "Ветку `ordered-list` можно «влить» в `master`."
   ]
  },
  {
   "cell_type": "code",
   "execution_count": 94,
   "metadata": {
    "collapsed": false,
    "deletable": true,
    "editable": true
   },
   "outputs": [
    {
     "name": "stdout",
     "output_type": "stream",
     "text": [
      "Updating a0003be..21fe810\n",
      "Fast-forward\n",
      " count.sh | 2 \u001b[32m+\u001b[m\u001b[31m-\u001b[m\n",
      " 1 file changed, 1 insertion(+), 1 deletion(-)\n"
     ]
    }
   ],
   "source": [
    "git merge ordered-list"
   ]
  },
  {
   "cell_type": "markdown",
   "metadata": {
    "deletable": true,
    "editable": true
   },
   "source": [
    "С тех пор, как ветка `ordered-list` ответвилась от `master`, в `master` не произошло никаких изменений. Поэтому git может применить изменения, сохранённые в коммитах `ordered-list`, напрямую к `master`. Таким образом указатель `master` выровняется с `ordered-list`. Такое слияние называется fast-forward."
   ]
  },
  {
   "cell_type": "code",
   "execution_count": 95,
   "metadata": {
    "collapsed": false,
    "deletable": true,
    "editable": true
   },
   "outputs": [
    {
     "name": "stdout",
     "output_type": "stream",
     "text": [
      "#!/usr/bin/env bash\n",
      "\n",
      "# Ivan Dmitrievsky, ivan.dmitrievsky@gmail.com\n",
      "\n",
      "cut -f 1 $1 | sort | uniq -c | sort -nr\n"
     ]
    }
   ],
   "source": [
    "cat count.sh"
   ]
  },
  {
   "cell_type": "code",
   "execution_count": 96,
   "metadata": {
    "collapsed": false,
    "deletable": true,
    "editable": true
   },
   "outputs": [
    {
     "name": "stdout",
     "output_type": "stream",
     "text": [
      "* \u001b[33m21fe8109e7c70b856a522868e17419837d258941\u001b[m Change the script to print ordered list\n",
      "* \u001b[33ma0003be2668162aa1a77ab90118c55017b280762\u001b[m Add contact info to the script\n",
      "* \u001b[33m75c0bea5b33e4cffb7181184a3dfebb51eb35cb4\u001b[m Revert \"Remove the script\"\n",
      "* \u001b[33m8560d3be877ed9749e88c3e816a051da49efc549\u001b[m Remove the script\n",
      "* \u001b[33m050170610a075abf1fc38c7f890e749a2ae523e9\u001b[m Implement counting using awk\n",
      "* \u001b[33mb25dc2c4483061773a7148766d56ca53e7483daa\u001b[m Unzip the MAP file for rice\n",
      "* \u001b[33m12ac34aa45bbe19b130eb2343475d65373c0dffb\u001b[m Init the script\n",
      "* \u001b[33m0663f3d5edbf8c098ab8d210efb873dc88aa3d85\u001b[m Add an example input\n"
     ]
    }
   ],
   "source": [
    "git log --pretty=oneline --graph"
   ]
  },
  {
   "cell_type": "markdown",
   "metadata": {
    "deletable": true,
    "editable": true
   },
   "source": [
    "---"
   ]
  },
  {
   "cell_type": "markdown",
   "metadata": {
    "deletable": true,
    "editable": true
   },
   "source": [
    "# Разрешение конфликтов"
   ]
  },
  {
   "cell_type": "markdown",
   "metadata": {
    "deletable": true,
    "editable": true
   },
   "source": [
    "Гораздо чаще возникают ситуации, в которых ветка `master` успевает обзавестись дополнительными коммитами, которых нет в `ordered-list`."
   ]
  },
  {
   "cell_type": "markdown",
   "metadata": {
    "deletable": true,
    "editable": true
   },
   "source": [
    "### count.sh | master"
   ]
  },
  {
   "cell_type": "code",
   "execution_count": null,
   "metadata": {
    "collapsed": true,
    "deletable": true,
    "editable": true
   },
   "outputs": [],
   "source": [
    "#!/usr/bin/env bash\n",
    "\n",
    "# Ivan Dmitrievsky, ivan.dmitrievsky@gmail.com\n",
    "\n",
    "cut -f 1 $1 | sort | uniq -c | sort --numeric-sort --reverse"
   ]
  },
  {
   "cell_type": "code",
   "execution_count": 97,
   "metadata": {
    "collapsed": true,
    "deletable": true,
    "editable": true
   },
   "outputs": [],
   "source": [
    "git add count.sh"
   ]
  },
  {
   "cell_type": "code",
   "execution_count": 98,
   "metadata": {
    "collapsed": false,
    "deletable": true,
    "editable": true
   },
   "outputs": [
    {
     "name": "stdout",
     "output_type": "stream",
     "text": [
      "[master 8b7d17f] Replace short options with long ones\n",
      " 1 file changed, 1 insertion(+), 1 deletion(-)\n"
     ]
    }
   ],
   "source": [
    "git commit -m 'Replace short options with long ones'"
   ]
  },
  {
   "cell_type": "code",
   "execution_count": 99,
   "metadata": {
    "collapsed": false,
    "deletable": true,
    "editable": true
   },
   "outputs": [
    {
     "name": "stdout",
     "output_type": "stream",
     "text": [
      "Switched to branch 'ordered-list'\n"
     ]
    }
   ],
   "source": [
    "git checkout ordered-list"
   ]
  },
  {
   "cell_type": "markdown",
   "metadata": {
    "deletable": true,
    "editable": true
   },
   "source": [
    "### count.sh | ordered-list"
   ]
  },
  {
   "cell_type": "code",
   "execution_count": null,
   "metadata": {
    "collapsed": true,
    "deletable": true,
    "editable": true
   },
   "outputs": [],
   "source": [
    "#!/usr/bin/env bash\n",
    "\n",
    "# Ivan Dmitrievsky, ivan.dmitrievsky@gmail.com\n",
    "\n",
    "cut -f1 $1 | sort | uniq -c | sort -nr"
   ]
  },
  {
   "cell_type": "code",
   "execution_count": 100,
   "metadata": {
    "collapsed": true,
    "deletable": true,
    "editable": true
   },
   "outputs": [],
   "source": [
    "git add count.sh"
   ]
  },
  {
   "cell_type": "code",
   "execution_count": 101,
   "metadata": {
    "collapsed": false,
    "deletable": true,
    "editable": true
   },
   "outputs": [
    {
     "name": "stdout",
     "output_type": "stream",
     "text": [
      "[ordered-list 3cef93f] Make cut options more compact\n",
      " 1 file changed, 1 insertion(+), 1 deletion(-)\n"
     ]
    }
   ],
   "source": [
    "git commit -m 'Make cut options more compact'"
   ]
  },
  {
   "cell_type": "markdown",
   "metadata": {
    "deletable": true,
    "editable": true
   },
   "source": [
    "Команда `log` с ключами `--graph` и `--all` покажет, что истории веток разошлись."
   ]
  },
  {
   "cell_type": "code",
   "execution_count": 105,
   "metadata": {
    "collapsed": false,
    "deletable": true,
    "editable": true
   },
   "outputs": [
    {
     "name": "stdout",
     "output_type": "stream",
     "text": [
      "* \u001b[33m3cef93f64989bdb82af77dbf5d55e4a40df44e0d\u001b[m Make cut options more compact\n",
      "\u001b[31m|\u001b[m * \u001b[33m8b7d17f1e192df3f9c55309fb9e1f02d96c847f4\u001b[m Replace short options with long ones\n",
      "\u001b[31m|\u001b[m\u001b[31m/\u001b[m  \n",
      "* \u001b[33m21fe8109e7c70b856a522868e17419837d258941\u001b[m Change the script to print ordered list\n",
      "* \u001b[33ma0003be2668162aa1a77ab90118c55017b280762\u001b[m Add contact info to the script\n",
      "* \u001b[33m75c0bea5b33e4cffb7181184a3dfebb51eb35cb4\u001b[m Revert \"Remove the script\"\n",
      "* \u001b[33m8560d3be877ed9749e88c3e816a051da49efc549\u001b[m Remove the script\n",
      "* \u001b[33m050170610a075abf1fc38c7f890e749a2ae523e9\u001b[m Implement counting using awk\n",
      "* \u001b[33mb25dc2c4483061773a7148766d56ca53e7483daa\u001b[m Unzip the MAP file for rice\n",
      "* \u001b[33m12ac34aa45bbe19b130eb2343475d65373c0dffb\u001b[m Init the script\n",
      "* \u001b[33m0663f3d5edbf8c098ab8d210efb873dc88aa3d85\u001b[m Add an example input\n"
     ]
    }
   ],
   "source": [
    "git log --pretty=oneline --graph --all"
   ]
  },
  {
   "cell_type": "code",
   "execution_count": 106,
   "metadata": {
    "collapsed": false,
    "deletable": true,
    "editable": true
   },
   "outputs": [
    {
     "name": "stdout",
     "output_type": "stream",
     "text": [
      "Switched to branch 'master'\n"
     ]
    }
   ],
   "source": [
    "git checkout master"
   ]
  },
  {
   "cell_type": "code",
   "execution_count": 107,
   "metadata": {
    "collapsed": false,
    "deletable": true,
    "editable": true
   },
   "outputs": [
    {
     "name": "stdout",
     "output_type": "stream",
     "text": [
      "Auto-merging count.sh\n",
      "CONFLICT (content): Merge conflict in count.sh\n",
      "Automatic merge failed; fix conflicts and then commit the result.\n"
     ]
    },
    {
     "ename": "",
     "evalue": "1",
     "output_type": "error",
     "traceback": []
    }
   ],
   "source": [
    "git merge ordered-list "
   ]
  },
  {
   "cell_type": "markdown",
   "metadata": {
    "deletable": true,
    "editable": true
   },
   "source": [
    "В таком случае при попытке слияния возникает конфликт."
   ]
  },
  {
   "cell_type": "code",
   "execution_count": 108,
   "metadata": {
    "collapsed": false,
    "deletable": true,
    "editable": true
   },
   "outputs": [
    {
     "name": "stdout",
     "output_type": "stream",
     "text": [
      "#!/usr/bin/env bash\n",
      "\n",
      "# Ivan Dmitrievsky, ivan.dmitrievsky@gmail.com\n",
      "\n",
      "<<<<<<< HEAD\n",
      "cut -f 1 $1 | sort | uniq -c | sort --numeric-sort --reverse\n",
      "=======\n",
      "cut -f1 $1 | sort | uniq -c | sort -nr\n",
      ">>>>>>> ordered-list\n"
     ]
    }
   ],
   "source": [
    "cat count.sh"
   ]
  },
  {
   "cell_type": "markdown",
   "metadata": {
    "deletable": true,
    "editable": true
   },
   "source": [
    "### count.sh | master"
   ]
  },
  {
   "cell_type": "code",
   "execution_count": null,
   "metadata": {
    "collapsed": true,
    "deletable": true,
    "editable": true
   },
   "outputs": [],
   "source": [
    "#!/usr/bin/env bash\n",
    "\n",
    "# Ivan Dmitrievsky, ivan.dmitrievsky@gmail.com\n",
    "\n",
    "cut -f1 $1 | sort | uniq -c | sort --numeric-sort --reverse"
   ]
  },
  {
   "cell_type": "code",
   "execution_count": 109,
   "metadata": {
    "collapsed": true,
    "deletable": true,
    "editable": true
   },
   "outputs": [],
   "source": [
    "git add count.sh"
   ]
  },
  {
   "cell_type": "code",
   "execution_count": 110,
   "metadata": {
    "collapsed": false,
    "deletable": true,
    "editable": true
   },
   "outputs": [
    {
     "name": "stdout",
     "output_type": "stream",
     "text": [
      "[master 3fcf4f0] Merge ordered-list into master\n"
     ]
    }
   ],
   "source": [
    "git commit -m 'Merge ordered-list into master'"
   ]
  },
  {
   "cell_type": "code",
   "execution_count": 111,
   "metadata": {
    "collapsed": false,
    "deletable": true,
    "editable": true
   },
   "outputs": [
    {
     "name": "stdout",
     "output_type": "stream",
     "text": [
      "*   \u001b[33m3fcf4f0720a58426c068bb32334ff7286aed0a2d\u001b[m Merge ordered-list into master\n",
      "\u001b[31m|\u001b[m\u001b[32m\\\u001b[m  \n",
      "\u001b[31m|\u001b[m * \u001b[33m3cef93f64989bdb82af77dbf5d55e4a40df44e0d\u001b[m Make cut options more compact\n",
      "* \u001b[32m|\u001b[m \u001b[33m8b7d17f1e192df3f9c55309fb9e1f02d96c847f4\u001b[m Replace short options with long ones\n",
      "\u001b[32m|\u001b[m\u001b[32m/\u001b[m  \n",
      "* \u001b[33m21fe8109e7c70b856a522868e17419837d258941\u001b[m Change the script to print ordered list\n",
      "* \u001b[33ma0003be2668162aa1a77ab90118c55017b280762\u001b[m Add contact info to the script\n",
      "* \u001b[33m75c0bea5b33e4cffb7181184a3dfebb51eb35cb4\u001b[m Revert \"Remove the script\"\n",
      "* \u001b[33m8560d3be877ed9749e88c3e816a051da49efc549\u001b[m Remove the script\n",
      "* \u001b[33m050170610a075abf1fc38c7f890e749a2ae523e9\u001b[m Implement counting using awk\n",
      "* \u001b[33mb25dc2c4483061773a7148766d56ca53e7483daa\u001b[m Unzip the MAP file for rice\n",
      "* \u001b[33m12ac34aa45bbe19b130eb2343475d65373c0dffb\u001b[m Init the script\n",
      "* \u001b[33m0663f3d5edbf8c098ab8d210efb873dc88aa3d85\u001b[m Add an example input\n"
     ]
    }
   ],
   "source": [
    "git log --pretty=oneline --graph"
   ]
  },
  {
   "cell_type": "markdown",
   "metadata": {
    "deletable": true,
    "editable": true
   },
   "source": [
    "В случаях конфликта существуют альтернативы слиянию, например, команда `rebase`, которые здесь не рассматриваются."
   ]
  },
  {
   "cell_type": "markdown",
   "metadata": {
    "deletable": true,
    "editable": true
   },
   "source": [
    "---"
   ]
  },
  {
   "cell_type": "markdown",
   "metadata": {
    "deletable": true,
    "editable": true
   },
   "source": [
    "# Клонирование репозиториев"
   ]
  },
  {
   "cell_type": "markdown",
   "metadata": {
    "deletable": true,
    "editable": true
   },
   "source": [
    "Часто возникает потребность в работе над одним и тем же проектом на нескольких компьютерах. Git обладает мощными инструментами для решения задач такого рода."
   ]
  },
  {
   "cell_type": "code",
   "execution_count": 114,
   "metadata": {
    "collapsed": true,
    "deletable": true,
    "editable": true
   },
   "outputs": [],
   "source": [
    "cd .."
   ]
  },
  {
   "cell_type": "code",
   "execution_count": 115,
   "metadata": {
    "collapsed": false,
    "deletable": true,
    "editable": true
   },
   "outputs": [
    {
     "name": "stdout",
     "output_type": "stream",
     "text": [
      "/Users/idmit/Documents/dev/sandbox/git_workshop/gitstarter\n"
     ]
    }
   ],
   "source": [
    "pwd"
   ]
  },
  {
   "cell_type": "markdown",
   "metadata": {
    "deletable": true,
    "editable": true
   },
   "source": [
    "Команда `clone` создаёт клон репозитория. Клон хранит все те же изменения, но не является точной копией. В качестве аргумента команде `clone` чаще всего передаётся URL."
   ]
  },
  {
   "cell_type": "code",
   "execution_count": 116,
   "metadata": {
    "collapsed": false,
    "deletable": true,
    "editable": true
   },
   "outputs": [
    {
     "name": "stdout",
     "output_type": "stream",
     "text": [
      "Cloning into 'cloned_repo'...\n",
      "done.\n"
     ]
    }
   ],
   "source": [
    "git clone count cloned_repo"
   ]
  },
  {
   "cell_type": "code",
   "execution_count": 117,
   "metadata": {
    "collapsed": false,
    "deletable": true,
    "editable": true
   },
   "outputs": [
    {
     "name": "stdout",
     "output_type": "stream",
     "text": [
      "total 0\n",
      "drwxr-xr-x  4 idmit  staff   136B Feb 28 18:34 .\n",
      "drwxr-xr-x  5 idmit  staff   170B Feb 28 17:05 ..\n",
      "drwxr-xr-x  6 idmit  staff   204B Feb 28 18:34 cloned_repo\n",
      "drwxr-xr-x  6 idmit  staff   204B Feb 28 18:27 count\n"
     ]
    }
   ],
   "source": [
    "ls -lah"
   ]
  },
  {
   "cell_type": "code",
   "execution_count": 118,
   "metadata": {
    "collapsed": true,
    "deletable": true,
    "editable": true
   },
   "outputs": [],
   "source": [
    "cd cloned_repo"
   ]
  },
  {
   "cell_type": "code",
   "execution_count": 119,
   "metadata": {
    "collapsed": false,
    "deletable": true,
    "editable": true
   },
   "outputs": [
    {
     "name": "stdout",
     "output_type": "stream",
     "text": [
      "total 56144\n",
      "drwxr-xr-x   6 idmit  staff   204B Feb 28 18:34 .\n",
      "drwxr-xr-x   4 idmit  staff   136B Feb 28 18:34 ..\n",
      "drwxr-xr-x  12 idmit  staff   408B Feb 28 18:34 .git\n",
      "-rw-r--r--   1 idmit  staff   5.9M Feb 28 18:34 NB-core_v4.map.gz\n",
      "-rwxr-xr-x   1 idmit  staff   129B Feb 28 18:34 count.sh\n",
      "-rw-r--r--   1 idmit  staff    22M Feb 28 18:34 rice.map\n"
     ]
    }
   ],
   "source": [
    "ls -lah"
   ]
  },
  {
   "cell_type": "code",
   "execution_count": 120,
   "metadata": {
    "collapsed": false,
    "deletable": true,
    "editable": true
   },
   "outputs": [
    {
     "name": "stdout",
     "output_type": "stream",
     "text": [
      "*   \u001b[33m3fcf4f0720a58426c068bb32334ff7286aed0a2d\u001b[m Merge ordered-list into master\n",
      "\u001b[31m|\u001b[m\u001b[32m\\\u001b[m  \n",
      "\u001b[31m|\u001b[m * \u001b[33m3cef93f64989bdb82af77dbf5d55e4a40df44e0d\u001b[m Make cut options more compact\n",
      "* \u001b[32m|\u001b[m \u001b[33m8b7d17f1e192df3f9c55309fb9e1f02d96c847f4\u001b[m Replace short options with long ones\n",
      "\u001b[32m|\u001b[m\u001b[32m/\u001b[m  \n",
      "* \u001b[33m21fe8109e7c70b856a522868e17419837d258941\u001b[m Change the script to print ordered list\n",
      "* \u001b[33ma0003be2668162aa1a77ab90118c55017b280762\u001b[m Add contact info to the script\n",
      "* \u001b[33m75c0bea5b33e4cffb7181184a3dfebb51eb35cb4\u001b[m Revert \"Remove the script\"\n",
      "* \u001b[33m8560d3be877ed9749e88c3e816a051da49efc549\u001b[m Remove the script\n",
      "* \u001b[33m050170610a075abf1fc38c7f890e749a2ae523e9\u001b[m Implement counting using awk\n",
      "* \u001b[33mb25dc2c4483061773a7148766d56ca53e7483daa\u001b[m Unzip the MAP file for rice\n",
      "* \u001b[33m12ac34aa45bbe19b130eb2343475d65373c0dffb\u001b[m Init the script\n",
      "* \u001b[33m0663f3d5edbf8c098ab8d210efb873dc88aa3d85\u001b[m Add an example input\n"
     ]
    }
   ],
   "source": [
    "git log --pretty=oneline --graph"
   ]
  },
  {
   "cell_type": "markdown",
   "metadata": {
    "deletable": true,
    "editable": true
   },
   "source": [
    "Содержимое клона совпадает с исходным репозиторием."
   ]
  },
  {
   "cell_type": "markdown",
   "metadata": {
    "deletable": true,
    "editable": true
   },
   "source": [
    "---"
   ]
  },
  {
   "cell_type": "markdown",
   "metadata": {
    "deletable": true,
    "editable": true
   },
   "source": [
    "# Про origin и remote"
   ]
  },
  {
   "cell_type": "markdown",
   "metadata": {
    "deletable": true,
    "editable": true
   },
   "source": [
    "Любой репозиторий может хранить список удалённых (remote) репозиториев, состояние которых он может отслеживать по запросу пользователя.\n",
    "\n",
    "Клонированный репозиторий по-умолчанию имеет удалённый репозиторий, который называется `origin`. Это указатель на исходный репозиторий. Git знает, где он находится, потому что его местоположение была передано команде `clone` при создании клона. "
   ]
  },
  {
   "cell_type": "code",
   "execution_count": 121,
   "metadata": {
    "collapsed": false,
    "deletable": true,
    "editable": true
   },
   "outputs": [
    {
     "name": "stdout",
     "output_type": "stream",
     "text": [
      "origin\n"
     ]
    }
   ],
   "source": [
    "git remote"
   ]
  },
  {
   "cell_type": "markdown",
   "metadata": {
    "deletable": true,
    "editable": true
   },
   "source": [
    "Информацию об удалённом репозитории можно отобразить с помощью `remote show`."
   ]
  },
  {
   "cell_type": "code",
   "execution_count": 122,
   "metadata": {
    "collapsed": false,
    "deletable": true,
    "editable": true
   },
   "outputs": [
    {
     "name": "stdout",
     "output_type": "stream",
     "text": [
      "* remote origin\n",
      "  Fetch URL: /Users/idmit/Documents/dev/sandbox/git_workshop/gitstarter/count\n",
      "  Push  URL: /Users/idmit/Documents/dev/sandbox/git_workshop/gitstarter/count\n",
      "  HEAD branch: master\n",
      "  Remote branches:\n",
      "    master       tracked\n",
      "    ordered-list tracked\n",
      "  Local branch configured for 'git pull':\n",
      "    master merges with remote master\n",
      "  Local ref configured for 'git push':\n",
      "    master pushes to master (up to date)\n"
     ]
    }
   ],
   "source": [
    "git remote show origin"
   ]
  },
  {
   "cell_type": "code",
   "execution_count": 123,
   "metadata": {
    "collapsed": false,
    "deletable": true,
    "editable": true
   },
   "outputs": [
    {
     "name": "stdout",
     "output_type": "stream",
     "text": [
      "* \u001b[32mmaster\u001b[m\n"
     ]
    }
   ],
   "source": [
    "git branch"
   ]
  },
  {
   "cell_type": "markdown",
   "metadata": {
    "deletable": true,
    "editable": true
   },
   "source": [
    "Если отобразить все ветки, то помимо локальных веток, также отобразятся и ветки удалённых репозиториев."
   ]
  },
  {
   "cell_type": "code",
   "execution_count": 126,
   "metadata": {
    "collapsed": false,
    "deletable": true,
    "editable": true
   },
   "outputs": [
    {
     "name": "stdout",
     "output_type": "stream",
     "text": [
      "* \u001b[32mmaster\u001b[m\n",
      "  \u001b[31mremotes/origin/HEAD\u001b[m -> origin/master\n",
      "  \u001b[31mremotes/origin/master\u001b[m\n",
      "  \u001b[31mremotes/origin/ordered-list\u001b[m\n"
     ]
    }
   ],
   "source": [
    "git branch -a"
   ]
  },
  {
   "cell_type": "markdown",
   "metadata": {
    "deletable": true,
    "editable": true
   },
   "source": [
    "---"
   ]
  },
  {
   "cell_type": "markdown",
   "metadata": {
    "deletable": true,
    "editable": true
   },
   "source": [
    "# Внесение изменений"
   ]
  },
  {
   "cell_type": "code",
   "execution_count": 127,
   "metadata": {
    "collapsed": true,
    "deletable": true,
    "editable": true
   },
   "outputs": [],
   "source": [
    "cd ../count"
   ]
  },
  {
   "cell_type": "markdown",
   "metadata": {
    "deletable": true,
    "editable": true
   },
   "source": [
    "### count.sh"
   ]
  },
  {
   "cell_type": "code",
   "execution_count": null,
   "metadata": {
    "collapsed": true,
    "deletable": true,
    "editable": true
   },
   "outputs": [],
   "source": [
    "#!/usr/bin/env bash\n",
    "\n",
    "# Ivan Dmitrievsky, ivan.dmitrievsky@gmail.com.\n",
    "# All rights reserved, 2017.\n",
    "\n",
    "cut -f1 $1 | sort | uniq -c | sort --numeric-sort --reverse"
   ]
  },
  {
   "cell_type": "code",
   "execution_count": 128,
   "metadata": {
    "collapsed": true,
    "deletable": true,
    "editable": true
   },
   "outputs": [],
   "source": [
    "git add count.sh"
   ]
  },
  {
   "cell_type": "code",
   "execution_count": 129,
   "metadata": {
    "collapsed": false,
    "deletable": true,
    "editable": true
   },
   "outputs": [
    {
     "name": "stdout",
     "output_type": "stream",
     "text": [
      "[master 5bf7279] Add copyright\n",
      " 1 file changed, 2 insertions(+), 1 deletion(-)\n"
     ]
    }
   ],
   "source": [
    "git commit -m \"Add copyright\""
   ]
  },
  {
   "cell_type": "code",
   "execution_count": 130,
   "metadata": {
    "collapsed": false,
    "deletable": true,
    "editable": true
   },
   "outputs": [
    {
     "name": "stdout",
     "output_type": "stream",
     "text": [
      "* \u001b[33m5bf7279f2f8d4281087c4676a8f1eac4cc26b6a5\u001b[m Add copyright\n",
      "*   \u001b[33m3fcf4f0720a58426c068bb32334ff7286aed0a2d\u001b[m Merge ordered-list into master\n",
      "\u001b[32m|\u001b[m\u001b[33m\\\u001b[m  \n",
      "\u001b[32m|\u001b[m * \u001b[33m3cef93f64989bdb82af77dbf5d55e4a40df44e0d\u001b[m Make cut options more compact\n",
      "* \u001b[33m|\u001b[m \u001b[33m8b7d17f1e192df3f9c55309fb9e1f02d96c847f4\u001b[m Replace short options with long ones\n",
      "\u001b[33m|\u001b[m\u001b[33m/\u001b[m  \n",
      "* \u001b[33m21fe8109e7c70b856a522868e17419837d258941\u001b[m Change the script to print ordered list\n",
      "* \u001b[33ma0003be2668162aa1a77ab90118c55017b280762\u001b[m Add contact info to the script\n",
      "* \u001b[33m75c0bea5b33e4cffb7181184a3dfebb51eb35cb4\u001b[m Revert \"Remove the script\"\n",
      "* \u001b[33m8560d3be877ed9749e88c3e816a051da49efc549\u001b[m Remove the script\n",
      "* \u001b[33m050170610a075abf1fc38c7f890e749a2ae523e9\u001b[m Implement counting using awk\n",
      "* \u001b[33mb25dc2c4483061773a7148766d56ca53e7483daa\u001b[m Unzip the MAP file for rice\n",
      "* \u001b[33m12ac34aa45bbe19b130eb2343475d65373c0dffb\u001b[m Init the script\n",
      "* \u001b[33m0663f3d5edbf8c098ab8d210efb873dc88aa3d85\u001b[m Add an example input\n"
     ]
    }
   ],
   "source": [
    "git log --pretty=oneline --graph"
   ]
  },
  {
   "cell_type": "markdown",
   "metadata": {
    "deletable": true,
    "editable": true
   },
   "source": [
    "---"
   ]
  },
  {
   "cell_type": "markdown",
   "metadata": {
    "deletable": true,
    "editable": true
   },
   "source": [
    "# Принятие изменений"
   ]
  },
  {
   "cell_type": "code",
   "execution_count": 131,
   "metadata": {
    "collapsed": false,
    "deletable": true,
    "editable": true
   },
   "outputs": [],
   "source": [
    "cd ../cloned_repo"
   ]
  },
  {
   "cell_type": "code",
   "execution_count": 133,
   "metadata": {
    "collapsed": false,
    "deletable": true,
    "editable": true
   },
   "outputs": [
    {
     "name": "stdout",
     "output_type": "stream",
     "text": [
      "*   \u001b[33m3fcf4f0720a58426c068bb32334ff7286aed0a2d\u001b[m Merge ordered-list into master\n",
      "\u001b[31m|\u001b[m\u001b[32m\\\u001b[m  \n",
      "\u001b[31m|\u001b[m * \u001b[33m3cef93f64989bdb82af77dbf5d55e4a40df44e0d\u001b[m Make cut options more compact\n",
      "* \u001b[32m|\u001b[m \u001b[33m8b7d17f1e192df3f9c55309fb9e1f02d96c847f4\u001b[m Replace short options with long ones\n",
      "\u001b[32m|\u001b[m\u001b[32m/\u001b[m  \n",
      "* \u001b[33m21fe8109e7c70b856a522868e17419837d258941\u001b[m Change the script to print ordered list\n",
      "* \u001b[33ma0003be2668162aa1a77ab90118c55017b280762\u001b[m Add contact info to the script\n",
      "* \u001b[33m75c0bea5b33e4cffb7181184a3dfebb51eb35cb4\u001b[m Revert \"Remove the script\"\n",
      "* \u001b[33m8560d3be877ed9749e88c3e816a051da49efc549\u001b[m Remove the script\n",
      "* \u001b[33m050170610a075abf1fc38c7f890e749a2ae523e9\u001b[m Implement counting using awk\n",
      "* \u001b[33mb25dc2c4483061773a7148766d56ca53e7483daa\u001b[m Unzip the MAP file for rice\n",
      "* \u001b[33m12ac34aa45bbe19b130eb2343475d65373c0dffb\u001b[m Init the script\n",
      "* \u001b[33m0663f3d5edbf8c098ab8d210efb873dc88aa3d85\u001b[m Add an example input\n"
     ]
    }
   ],
   "source": [
    "git log --pretty=oneline --graph --all"
   ]
  },
  {
   "cell_type": "code",
   "execution_count": 134,
   "metadata": {
    "collapsed": false,
    "deletable": true,
    "editable": true
   },
   "outputs": [
    {
     "name": "stdout",
     "output_type": "stream",
     "text": [
      "#!/usr/bin/env bash\n",
      "\n",
      "# Ivan Dmitrievsky, ivan.dmitrievsky@gmail.com\n",
      "\n",
      "cut -f1 $1 | sort | uniq -c | sort --numeric-sort --reverse\n"
     ]
    }
   ],
   "source": [
    "cat count.sh"
   ]
  },
  {
   "cell_type": "markdown",
   "metadata": {
    "deletable": true,
    "editable": true
   },
   "source": [
    "Изменения не переносятся в клонированный репозиторий автоматически. Чтобы скачать изменения, произошедшие в удалённых репозиториях, используется команда `fetch`."
   ]
  },
  {
   "cell_type": "code",
   "execution_count": 135,
   "metadata": {
    "collapsed": false,
    "deletable": true,
    "editable": true
   },
   "outputs": [
    {
     "name": "stdout",
     "output_type": "stream",
     "text": [
      "remote: Counting objects: 3, done.\u001b[K\n",
      "remote: Compressing objects: 100% (3/3), done.\u001b[K\n",
      "remote: Total 3 (delta 0), reused 0 (delta 0)\u001b[K\n",
      "Unpacking objects: 100% (3/3), done.\n",
      "From /Users/idmit/Documents/dev/sandbox/git_workshop/gitstarter/count\n",
      "   3fcf4f0..5bf7279  master     -> origin/master\n"
     ]
    }
   ],
   "source": [
    "git fetch"
   ]
  },
  {
   "cell_type": "code",
   "execution_count": 136,
   "metadata": {
    "collapsed": false,
    "deletable": true,
    "editable": true
   },
   "outputs": [
    {
     "name": "stdout",
     "output_type": "stream",
     "text": [
      "* \u001b[33m5bf7279f2f8d4281087c4676a8f1eac4cc26b6a5\u001b[m Add copyright\n",
      "*   \u001b[33m3fcf4f0720a58426c068bb32334ff7286aed0a2d\u001b[m Merge ordered-list into master\n",
      "\u001b[32m|\u001b[m\u001b[33m\\\u001b[m  \n",
      "\u001b[32m|\u001b[m * \u001b[33m3cef93f64989bdb82af77dbf5d55e4a40df44e0d\u001b[m Make cut options more compact\n",
      "* \u001b[33m|\u001b[m \u001b[33m8b7d17f1e192df3f9c55309fb9e1f02d96c847f4\u001b[m Replace short options with long ones\n",
      "\u001b[33m|\u001b[m\u001b[33m/\u001b[m  \n",
      "* \u001b[33m21fe8109e7c70b856a522868e17419837d258941\u001b[m Change the script to print ordered list\n",
      "* \u001b[33ma0003be2668162aa1a77ab90118c55017b280762\u001b[m Add contact info to the script\n",
      "* \u001b[33m75c0bea5b33e4cffb7181184a3dfebb51eb35cb4\u001b[m Revert \"Remove the script\"\n",
      "* \u001b[33m8560d3be877ed9749e88c3e816a051da49efc549\u001b[m Remove the script\n",
      "* \u001b[33m050170610a075abf1fc38c7f890e749a2ae523e9\u001b[m Implement counting using awk\n",
      "* \u001b[33mb25dc2c4483061773a7148766d56ca53e7483daa\u001b[m Unzip the MAP file for rice\n",
      "* \u001b[33m12ac34aa45bbe19b130eb2343475d65373c0dffb\u001b[m Init the script\n",
      "* \u001b[33m0663f3d5edbf8c098ab8d210efb873dc88aa3d85\u001b[m Add an example input\n"
     ]
    }
   ],
   "source": [
    "git log --pretty=oneline --graph  --all"
   ]
  },
  {
   "cell_type": "markdown",
   "metadata": {
    "deletable": true,
    "editable": true
   },
   "source": [
    "Работа с удалёнными ветками аналогична работе с локальными ветками (удалённые ветки это лишь название особых локальных веток). Чтобы добавить изменения в главную ветку, нужно выполнить слияние."
   ]
  },
  {
   "cell_type": "code",
   "execution_count": 137,
   "metadata": {
    "collapsed": false,
    "deletable": true,
    "editable": true
   },
   "outputs": [
    {
     "name": "stdout",
     "output_type": "stream",
     "text": [
      "Updating 3fcf4f0..5bf7279\n",
      "Fast-forward\n",
      " count.sh | 3 \u001b[32m++\u001b[m\u001b[31m-\u001b[m\n",
      " 1 file changed, 2 insertions(+), 1 deletion(-)\n"
     ]
    }
   ],
   "source": [
    "git merge origin/master"
   ]
  },
  {
   "cell_type": "code",
   "execution_count": 138,
   "metadata": {
    "collapsed": false,
    "deletable": true,
    "editable": true
   },
   "outputs": [
    {
     "name": "stdout",
     "output_type": "stream",
     "text": [
      "#!/usr/bin/env bash\n",
      "\n",
      "# Ivan Dmitrievsky, ivan.dmitrievsky@gmail.com.\n",
      "# All rights reserved, 2017.\n",
      "\n",
      "cut -f1 $1 | sort | uniq -c | sort --numeric-sort --reverse\n"
     ]
    }
   ],
   "source": [
    "cat count.sh"
   ]
  },
  {
   "cell_type": "markdown",
   "metadata": {
    "collapsed": true,
    "deletable": true,
    "editable": true
   },
   "source": [
    "Эти команды так часто выполнятются одновременно, что существует команда `pull`, которая выполняет и `fetch`, и слияние."
   ]
  },
  {
   "cell_type": "markdown",
   "metadata": {
    "deletable": true,
    "editable": true
   },
   "source": [
    "---"
   ]
  },
  {
   "cell_type": "markdown",
   "metadata": {
    "deletable": true,
    "editable": true
   },
   "source": [
    "# Отправка изменений"
   ]
  },
  {
   "cell_type": "markdown",
   "metadata": {
    "deletable": true,
    "editable": true
   },
   "source": [
    "Репозиторий клон может скачивать изменения, происходящие в исходном репозитории. Как осуществить передачу изменений в обратном направлении?\n",
    "\n",
    "Можно добавить клона в исходный репозитории в качестве remote, так пара репозиториев может обмениваться изменениями. Но что если мы хотим работать над проектом командой из десяти человек? Как всем десяти обмениваться изменениями между собой?\n",
    "\n",
    "Обычно эта задача решается с помощью специально выделенного централизированного репозитория, который служит для синхронизации всех остальных. Такой репозиторий помещается на сервере, который всегда доступен, чтобы всегда существовала возможность синхронизации."
   ]
  },
  {
   "cell_type": "code",
   "execution_count": 148,
   "metadata": {
    "collapsed": true,
    "deletable": true,
    "editable": true
   },
   "outputs": [],
   "source": [
    "cd .."
   ]
  },
  {
   "cell_type": "code",
   "execution_count": 149,
   "metadata": {
    "collapsed": false,
    "deletable": true,
    "editable": true
   },
   "outputs": [
    {
     "name": "stdout",
     "output_type": "stream",
     "text": [
      "/Users/idmit/Documents/dev/sandbox/git_workshop/gitstarter\n"
     ]
    }
   ],
   "source": [
    "pwd"
   ]
  },
  {
   "cell_type": "markdown",
   "metadata": {
    "deletable": true,
    "editable": true
   },
   "source": [
    "Однако, поскольку этот репозиторий служит только для синхронизации, и никто не работает в нём с реальными файлами, то ему необходимо хранить лишь изменения, которые он получает и отправляет. Обычно git хранит информацию об изменениях в поддиректории `.git` репозитория, но существует команда, создающая «голый» репозиторий, который может хранить только изменения."
   ]
  },
  {
   "cell_type": "code",
   "execution_count": 150,
   "metadata": {
    "collapsed": false,
    "deletable": true,
    "editable": true
   },
   "outputs": [
    {
     "name": "stdout",
     "output_type": "stream",
     "text": [
      "Initialized empty Git repository in /Users/idmit/Documents/dev/sandbox/git_workshop/gitstarter/shared.git/\n"
     ]
    }
   ],
   "source": [
    "git init --bare shared.git"
   ]
  },
  {
   "cell_type": "markdown",
   "metadata": {
    "deletable": true,
    "editable": true
   },
   "source": [
    "После исполнения этой команды рабочий каталог не становится репозиторием. Репозитоием является `shared.git`."
   ]
  },
  {
   "cell_type": "code",
   "execution_count": 151,
   "metadata": {
    "collapsed": false,
    "deletable": true,
    "editable": true
   },
   "outputs": [
    {
     "name": "stdout",
     "output_type": "stream",
     "text": [
      "total 24\n",
      "drwxr-xr-x   9 idmit  staff   306B Feb 28 19:04 .\n",
      "drwxr-xr-x   5 idmit  staff   170B Feb 28 19:04 ..\n",
      "-rw-r--r--   1 idmit  staff    23B Feb 28 19:04 HEAD\n",
      "-rw-r--r--   1 idmit  staff   111B Feb 28 19:04 config\n",
      "-rw-r--r--   1 idmit  staff    73B Feb 28 19:04 description\n",
      "drwxr-xr-x  12 idmit  staff   408B Feb 28 19:04 hooks\n",
      "drwxr-xr-x   3 idmit  staff   102B Feb 28 19:04 info\n",
      "drwxr-xr-x   4 idmit  staff   136B Feb 28 19:04 objects\n",
      "drwxr-xr-x   4 idmit  staff   136B Feb 28 19:04 refs\n"
     ]
    }
   ],
   "source": [
    "ls -lah shared.git"
   ]
  },
  {
   "cell_type": "code",
   "execution_count": 152,
   "metadata": {
    "collapsed": false,
    "deletable": true,
    "editable": true
   },
   "outputs": [],
   "source": [
    "cd count"
   ]
  },
  {
   "cell_type": "code",
   "execution_count": 153,
   "metadata": {
    "collapsed": false,
    "deletable": true,
    "editable": true
   },
   "outputs": [],
   "source": [
    "git remote add shared ../shared.git"
   ]
  },
  {
   "cell_type": "code",
   "execution_count": 154,
   "metadata": {
    "collapsed": true,
    "deletable": true,
    "editable": true
   },
   "outputs": [],
   "source": [
    "cd ../cloned_repo"
   ]
  },
  {
   "cell_type": "code",
   "execution_count": 155,
   "metadata": {
    "collapsed": true,
    "deletable": true,
    "editable": true
   },
   "outputs": [],
   "source": [
    "git remote add shared ../shared.git"
   ]
  },
  {
   "cell_type": "markdown",
   "metadata": {
    "deletable": true,
    "editable": true
   },
   "source": [
    "### count.sh | cloned_repo"
   ]
  },
  {
   "cell_type": "code",
   "execution_count": null,
   "metadata": {
    "collapsed": true,
    "deletable": true,
    "editable": true
   },
   "outputs": [],
   "source": [
    "#!/usr/bin/env bash\n",
    "\n",
    "# Ivan Dmitrievsky, ivan.dmitrievsky@gmail.com.\n",
    "# John Doe, john.doe@email.com\n",
    "# All rights reserved, 2017.\n",
    "\n",
    "cut -f1 $1 | sort | uniq -c | sort --numeric-sort --reverse"
   ]
  },
  {
   "cell_type": "code",
   "execution_count": 156,
   "metadata": {
    "collapsed": true,
    "deletable": true,
    "editable": true
   },
   "outputs": [],
   "source": [
    "git add count.sh"
   ]
  },
  {
   "cell_type": "code",
   "execution_count": 157,
   "metadata": {
    "collapsed": false,
    "deletable": true,
    "editable": true
   },
   "outputs": [
    {
     "name": "stdout",
     "output_type": "stream",
     "text": [
      "[master 382d261] Add John Doe as an author\n",
      " 1 file changed, 1 insertion(+)\n"
     ]
    }
   ],
   "source": [
    "git commit -m 'Add John Doe as an author'"
   ]
  },
  {
   "cell_type": "code",
   "execution_count": 158,
   "metadata": {
    "collapsed": false,
    "deletable": true,
    "editable": true
   },
   "outputs": [
    {
     "name": "stdout",
     "output_type": "stream",
     "text": [
      "Counting objects: 37, done.\n",
      "Delta compression using up to 4 threads.\n",
      "Compressing objects: 100% (34/34), done.\n",
      "Writing objects: 100% (37/37), 11.75 MiB | 3.40 MiB/s, done.\n",
      "Total 37 (delta 8), reused 0 (delta 0)\n",
      "To ../shared.git\n",
      " * [new branch]      master -> master\n"
     ]
    }
   ],
   "source": [
    "git push shared master"
   ]
  },
  {
   "cell_type": "code",
   "execution_count": 159,
   "metadata": {
    "collapsed": true,
    "deletable": true,
    "editable": true
   },
   "outputs": [],
   "source": [
    "cd ../count"
   ]
  },
  {
   "cell_type": "code",
   "execution_count": 160,
   "metadata": {
    "collapsed": false,
    "deletable": true,
    "editable": true
   },
   "outputs": [
    {
     "name": "stdout",
     "output_type": "stream",
     "text": [
      "remote: Counting objects: 3, done.\u001b[K\n",
      "remote: Compressing objects: 100% (3/3), done.\u001b[K\n",
      "remote: Total 3 (delta 1), reused 0 (delta 0)\u001b[K\n",
      "Unpacking objects: 100% (3/3), done.\n",
      "From ../shared\n",
      " * branch            master     -> FETCH_HEAD\n",
      " * [new branch]      master     -> shared/master\n",
      "Updating 5bf7279..382d261\n",
      "Fast-forward\n",
      " count.sh | 1 \u001b[32m+\u001b[m\n",
      " 1 file changed, 1 insertion(+)\n"
     ]
    }
   ],
   "source": [
    "git pull shared master"
   ]
  },
  {
   "cell_type": "code",
   "execution_count": 161,
   "metadata": {
    "collapsed": false,
    "deletable": true,
    "editable": true
   },
   "outputs": [
    {
     "name": "stdout",
     "output_type": "stream",
     "text": [
      "#!/usr/bin/env bash\n",
      "\n",
      "# Ivan Dmitrievsky, ivan.dmitrievsky@gmail.com.\n",
      "# John Doe, john.doe@email.com\n",
      "# All rights reserved, 2017.\n",
      "\n",
      "cut -f1 $1 | sort | uniq -c | sort --numeric-sort --reverse\n"
     ]
    }
   ],
   "source": [
    "cat count.sh"
   ]
  },
  {
   "cell_type": "markdown",
   "metadata": {
    "deletable": true,
    "editable": true
   },
   "source": [
    "---"
   ]
  },
  {
   "cell_type": "markdown",
   "metadata": {
    "deletable": true,
    "editable": true
   },
   "source": [
    "# Шаблоны использования Git"
   ]
  },
  {
   "cell_type": "markdown",
   "metadata": {
    "deletable": true,
    "editable": true
   },
   "source": [
    "Существует множество сервисов, готовых выступать в роли сервера для группы репозиториев. Самым популярным является https://github.com.\n",
    "\n",
    "Чаще всего сначала создаётся локальный репозиторий, в котором ведётся работа. При возникновении необходимости работать в команде создаётся «голый» репозиторий на GitHub. URL этого репозитория добавляется в качестве remote репозитория, в который периодически выполняется `push`.\n",
    "\n",
    "В случаях, когда с самого начала планируется вести командную разработку, на GitHub сразу создаётся «голый» репозиторий, который затем клонируется на компьютер. Клон уже содержит исходный репозиторий в качестве удалённого."
   ]
  },
  {
   "cell_type": "markdown",
   "metadata": {
    "deletable": true,
    "editable": true
   },
   "source": [
    "Также GitHub используется для публикации приложений с открытым исходным кодом. В таком случае другие пользователи могут клонировать ваш репозиторий, а затем предлагать изменения, исправляющие ошибки или добаляющие новую функциональность."
   ]
  }
 ],
 "metadata": {
  "kernelspec": {
   "display_name": "git-ws",
   "language": "bash",
   "name": "bash"
  },
  "language_info": {
   "codemirror_mode": "shell",
   "file_extension": ".sh",
   "mimetype": "text/x-sh",
   "name": "bash"
  }
 },
 "nbformat": 4,
 "nbformat_minor": 2
}
